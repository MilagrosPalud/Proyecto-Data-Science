{
  "cells": [
    {
      "cell_type": "markdown",
      "metadata": {
        "id": "H02NSbjbEeOT"
      },
      "source": [
        "**TRABAJO INTEGRADOR FINAL CURSO DATA SCIENCE / 2024 / MARÍA MILAGROS PALUD**"
      ]
    },
    {
      "cell_type": "code",
      "execution_count": 3,
      "metadata": {
        "id": "c7BHIYSKEYaE"
      },
      "outputs": [],
      "source": [
        "import pandas as pd\n",
        "import seaborn as sns\n",
        "import matplotlib.pyplot as plt\n",
        "import numpy as np\n",
        "import sklearn\n",
        "from sklearn.preprocessing import StandardScaler\n",
        "from sklearn.preprocessing import MinMaxScaler\n",
        "from sklearn.model_selection import train_test_split\n",
        "from sklearn.linear_model import LinearRegression\n",
        "import matplotlib.pyplot as plt\n",
        "from sklearn.svm import SVR\n",
        "from sklearn.metrics import mean_squared_error\n",
        "from sklearn.model_selection import train_test_split, GridSearchCV\n",
        "from sklearn.pipeline import Pipeline\n"
      ]
    },
    {
      "cell_type": "markdown",
      "metadata": {
        "id": "qeRPFm1cFXqj"
      },
      "source": [
        "**TEMA: FINANZAS**\n",
        "\n",
        "Objetivo: explorar los factores que influyen en el precio de las acciones de TESLA implementando aprendizaje automático a partir de un conjunto de datos histórico.\n",
        "\n",
        "INVESTIGACIÓN:\n",
        "\n",
        "¿Qué es TESLA?\n",
        "Tesla es una empresa estadounidense conocida por su enfoque en la fabricación de vehículos eléctricos, sistemas de almacenamiento de energía y tecnologías relacionadas con la energía renovable. La cara visible de la misma es el excentrico Elon Musk, quien a su vez es el dueño de la red social X (ex twitter).\n",
        "La visión de Tesla es acelerar la transición mundial hacia la energía sostenible, ofreciendo productos que no solo sean respetuosos con el medio ambiente, sino también atractivos en términos de rendimiento y diseño. La compañía ha sido un líder en la industria de los vehículos eléctricos y ha desempeñado un papel importante en la popularización de esta tecnología.\n",
        "La empresa TESLA cotiza en bolsa bajo el signo TSLA.\n",
        "Durante mi investigación buscaré predecir si el precio de las acciones sufrirán o no un aumento.\n",
        "\n",
        "\n",
        "\n"
      ]
    },
    {
      "cell_type": "code",
      "execution_count": 4,
      "metadata": {
        "id": "fkzCDHR1FN1i"
      },
      "outputs": [],
      "source": [
        "data = pd.read_csv(\"/content/TSLA.csv\")"
      ]
    },
    {
      "cell_type": "code",
      "execution_count": null,
      "metadata": {
        "colab": {
          "base_uri": "https://localhost:8080/",
          "height": 206
        },
        "id": "DML6QaNXGTnZ",
        "outputId": "c76a13a2-80cf-478f-c3f7-a55eef934d12"
      },
      "outputs": [
        {
          "output_type": "execute_result",
          "data": {
            "text/plain": [
              "         Date       Open   High        Low      Close  Adj Close    Volume\n",
              "0  2010-06-29  19.000000  25.00  17.540001  23.889999  23.889999  18766300\n",
              "1  2010-06-30  25.790001  30.42  23.299999  23.830000  23.830000  17187100\n",
              "2  2010-07-01  25.000000  25.92  20.270000  21.959999  21.959999   8218800\n",
              "3  2010-07-02  23.000000  23.10  18.709999  19.200001  19.200001   5139800\n",
              "4  2010-07-06  20.000000  20.00  15.830000  16.110001  16.110001   6866900"
            ],
            "text/html": [
              "\n",
              "  <div id=\"df-15ef4802-f2ba-4097-9a47-5c88e45d0c26\" class=\"colab-df-container\">\n",
              "    <div>\n",
              "<style scoped>\n",
              "    .dataframe tbody tr th:only-of-type {\n",
              "        vertical-align: middle;\n",
              "    }\n",
              "\n",
              "    .dataframe tbody tr th {\n",
              "        vertical-align: top;\n",
              "    }\n",
              "\n",
              "    .dataframe thead th {\n",
              "        text-align: right;\n",
              "    }\n",
              "</style>\n",
              "<table border=\"1\" class=\"dataframe\">\n",
              "  <thead>\n",
              "    <tr style=\"text-align: right;\">\n",
              "      <th></th>\n",
              "      <th>Date</th>\n",
              "      <th>Open</th>\n",
              "      <th>High</th>\n",
              "      <th>Low</th>\n",
              "      <th>Close</th>\n",
              "      <th>Adj Close</th>\n",
              "      <th>Volume</th>\n",
              "    </tr>\n",
              "  </thead>\n",
              "  <tbody>\n",
              "    <tr>\n",
              "      <th>0</th>\n",
              "      <td>2010-06-29</td>\n",
              "      <td>19.000000</td>\n",
              "      <td>25.00</td>\n",
              "      <td>17.540001</td>\n",
              "      <td>23.889999</td>\n",
              "      <td>23.889999</td>\n",
              "      <td>18766300</td>\n",
              "    </tr>\n",
              "    <tr>\n",
              "      <th>1</th>\n",
              "      <td>2010-06-30</td>\n",
              "      <td>25.790001</td>\n",
              "      <td>30.42</td>\n",
              "      <td>23.299999</td>\n",
              "      <td>23.830000</td>\n",
              "      <td>23.830000</td>\n",
              "      <td>17187100</td>\n",
              "    </tr>\n",
              "    <tr>\n",
              "      <th>2</th>\n",
              "      <td>2010-07-01</td>\n",
              "      <td>25.000000</td>\n",
              "      <td>25.92</td>\n",
              "      <td>20.270000</td>\n",
              "      <td>21.959999</td>\n",
              "      <td>21.959999</td>\n",
              "      <td>8218800</td>\n",
              "    </tr>\n",
              "    <tr>\n",
              "      <th>3</th>\n",
              "      <td>2010-07-02</td>\n",
              "      <td>23.000000</td>\n",
              "      <td>23.10</td>\n",
              "      <td>18.709999</td>\n",
              "      <td>19.200001</td>\n",
              "      <td>19.200001</td>\n",
              "      <td>5139800</td>\n",
              "    </tr>\n",
              "    <tr>\n",
              "      <th>4</th>\n",
              "      <td>2010-07-06</td>\n",
              "      <td>20.000000</td>\n",
              "      <td>20.00</td>\n",
              "      <td>15.830000</td>\n",
              "      <td>16.110001</td>\n",
              "      <td>16.110001</td>\n",
              "      <td>6866900</td>\n",
              "    </tr>\n",
              "  </tbody>\n",
              "</table>\n",
              "</div>\n",
              "    <div class=\"colab-df-buttons\">\n",
              "\n",
              "  <div class=\"colab-df-container\">\n",
              "    <button class=\"colab-df-convert\" onclick=\"convertToInteractive('df-15ef4802-f2ba-4097-9a47-5c88e45d0c26')\"\n",
              "            title=\"Convert this dataframe to an interactive table.\"\n",
              "            style=\"display:none;\">\n",
              "\n",
              "  <svg xmlns=\"http://www.w3.org/2000/svg\" height=\"24px\" viewBox=\"0 -960 960 960\">\n",
              "    <path d=\"M120-120v-720h720v720H120Zm60-500h600v-160H180v160Zm220 220h160v-160H400v160Zm0 220h160v-160H400v160ZM180-400h160v-160H180v160Zm440 0h160v-160H620v160ZM180-180h160v-160H180v160Zm440 0h160v-160H620v160Z\"/>\n",
              "  </svg>\n",
              "    </button>\n",
              "\n",
              "  <style>\n",
              "    .colab-df-container {\n",
              "      display:flex;\n",
              "      gap: 12px;\n",
              "    }\n",
              "\n",
              "    .colab-df-convert {\n",
              "      background-color: #E8F0FE;\n",
              "      border: none;\n",
              "      border-radius: 50%;\n",
              "      cursor: pointer;\n",
              "      display: none;\n",
              "      fill: #1967D2;\n",
              "      height: 32px;\n",
              "      padding: 0 0 0 0;\n",
              "      width: 32px;\n",
              "    }\n",
              "\n",
              "    .colab-df-convert:hover {\n",
              "      background-color: #E2EBFA;\n",
              "      box-shadow: 0px 1px 2px rgba(60, 64, 67, 0.3), 0px 1px 3px 1px rgba(60, 64, 67, 0.15);\n",
              "      fill: #174EA6;\n",
              "    }\n",
              "\n",
              "    .colab-df-buttons div {\n",
              "      margin-bottom: 4px;\n",
              "    }\n",
              "\n",
              "    [theme=dark] .colab-df-convert {\n",
              "      background-color: #3B4455;\n",
              "      fill: #D2E3FC;\n",
              "    }\n",
              "\n",
              "    [theme=dark] .colab-df-convert:hover {\n",
              "      background-color: #434B5C;\n",
              "      box-shadow: 0px 1px 3px 1px rgba(0, 0, 0, 0.15);\n",
              "      filter: drop-shadow(0px 1px 2px rgba(0, 0, 0, 0.3));\n",
              "      fill: #FFFFFF;\n",
              "    }\n",
              "  </style>\n",
              "\n",
              "    <script>\n",
              "      const buttonEl =\n",
              "        document.querySelector('#df-15ef4802-f2ba-4097-9a47-5c88e45d0c26 button.colab-df-convert');\n",
              "      buttonEl.style.display =\n",
              "        google.colab.kernel.accessAllowed ? 'block' : 'none';\n",
              "\n",
              "      async function convertToInteractive(key) {\n",
              "        const element = document.querySelector('#df-15ef4802-f2ba-4097-9a47-5c88e45d0c26');\n",
              "        const dataTable =\n",
              "          await google.colab.kernel.invokeFunction('convertToInteractive',\n",
              "                                                    [key], {});\n",
              "        if (!dataTable) return;\n",
              "\n",
              "        const docLinkHtml = 'Like what you see? Visit the ' +\n",
              "          '<a target=\"_blank\" href=https://colab.research.google.com/notebooks/data_table.ipynb>data table notebook</a>'\n",
              "          + ' to learn more about interactive tables.';\n",
              "        element.innerHTML = '';\n",
              "        dataTable['output_type'] = 'display_data';\n",
              "        await google.colab.output.renderOutput(dataTable, element);\n",
              "        const docLink = document.createElement('div');\n",
              "        docLink.innerHTML = docLinkHtml;\n",
              "        element.appendChild(docLink);\n",
              "      }\n",
              "    </script>\n",
              "  </div>\n",
              "\n",
              "\n",
              "<div id=\"df-83838035-6c7b-47e7-b921-fd8068e553ef\">\n",
              "  <button class=\"colab-df-quickchart\" onclick=\"quickchart('df-83838035-6c7b-47e7-b921-fd8068e553ef')\"\n",
              "            title=\"Suggest charts\"\n",
              "            style=\"display:none;\">\n",
              "\n",
              "<svg xmlns=\"http://www.w3.org/2000/svg\" height=\"24px\"viewBox=\"0 0 24 24\"\n",
              "     width=\"24px\">\n",
              "    <g>\n",
              "        <path d=\"M19 3H5c-1.1 0-2 .9-2 2v14c0 1.1.9 2 2 2h14c1.1 0 2-.9 2-2V5c0-1.1-.9-2-2-2zM9 17H7v-7h2v7zm4 0h-2V7h2v10zm4 0h-2v-4h2v4z\"/>\n",
              "    </g>\n",
              "</svg>\n",
              "  </button>\n",
              "\n",
              "<style>\n",
              "  .colab-df-quickchart {\n",
              "      --bg-color: #E8F0FE;\n",
              "      --fill-color: #1967D2;\n",
              "      --hover-bg-color: #E2EBFA;\n",
              "      --hover-fill-color: #174EA6;\n",
              "      --disabled-fill-color: #AAA;\n",
              "      --disabled-bg-color: #DDD;\n",
              "  }\n",
              "\n",
              "  [theme=dark] .colab-df-quickchart {\n",
              "      --bg-color: #3B4455;\n",
              "      --fill-color: #D2E3FC;\n",
              "      --hover-bg-color: #434B5C;\n",
              "      --hover-fill-color: #FFFFFF;\n",
              "      --disabled-bg-color: #3B4455;\n",
              "      --disabled-fill-color: #666;\n",
              "  }\n",
              "\n",
              "  .colab-df-quickchart {\n",
              "    background-color: var(--bg-color);\n",
              "    border: none;\n",
              "    border-radius: 50%;\n",
              "    cursor: pointer;\n",
              "    display: none;\n",
              "    fill: var(--fill-color);\n",
              "    height: 32px;\n",
              "    padding: 0;\n",
              "    width: 32px;\n",
              "  }\n",
              "\n",
              "  .colab-df-quickchart:hover {\n",
              "    background-color: var(--hover-bg-color);\n",
              "    box-shadow: 0 1px 2px rgba(60, 64, 67, 0.3), 0 1px 3px 1px rgba(60, 64, 67, 0.15);\n",
              "    fill: var(--button-hover-fill-color);\n",
              "  }\n",
              "\n",
              "  .colab-df-quickchart-complete:disabled,\n",
              "  .colab-df-quickchart-complete:disabled:hover {\n",
              "    background-color: var(--disabled-bg-color);\n",
              "    fill: var(--disabled-fill-color);\n",
              "    box-shadow: none;\n",
              "  }\n",
              "\n",
              "  .colab-df-spinner {\n",
              "    border: 2px solid var(--fill-color);\n",
              "    border-color: transparent;\n",
              "    border-bottom-color: var(--fill-color);\n",
              "    animation:\n",
              "      spin 1s steps(1) infinite;\n",
              "  }\n",
              "\n",
              "  @keyframes spin {\n",
              "    0% {\n",
              "      border-color: transparent;\n",
              "      border-bottom-color: var(--fill-color);\n",
              "      border-left-color: var(--fill-color);\n",
              "    }\n",
              "    20% {\n",
              "      border-color: transparent;\n",
              "      border-left-color: var(--fill-color);\n",
              "      border-top-color: var(--fill-color);\n",
              "    }\n",
              "    30% {\n",
              "      border-color: transparent;\n",
              "      border-left-color: var(--fill-color);\n",
              "      border-top-color: var(--fill-color);\n",
              "      border-right-color: var(--fill-color);\n",
              "    }\n",
              "    40% {\n",
              "      border-color: transparent;\n",
              "      border-right-color: var(--fill-color);\n",
              "      border-top-color: var(--fill-color);\n",
              "    }\n",
              "    60% {\n",
              "      border-color: transparent;\n",
              "      border-right-color: var(--fill-color);\n",
              "    }\n",
              "    80% {\n",
              "      border-color: transparent;\n",
              "      border-right-color: var(--fill-color);\n",
              "      border-bottom-color: var(--fill-color);\n",
              "    }\n",
              "    90% {\n",
              "      border-color: transparent;\n",
              "      border-bottom-color: var(--fill-color);\n",
              "    }\n",
              "  }\n",
              "</style>\n",
              "\n",
              "  <script>\n",
              "    async function quickchart(key) {\n",
              "      const quickchartButtonEl =\n",
              "        document.querySelector('#' + key + ' button');\n",
              "      quickchartButtonEl.disabled = true;  // To prevent multiple clicks.\n",
              "      quickchartButtonEl.classList.add('colab-df-spinner');\n",
              "      try {\n",
              "        const charts = await google.colab.kernel.invokeFunction(\n",
              "            'suggestCharts', [key], {});\n",
              "      } catch (error) {\n",
              "        console.error('Error during call to suggestCharts:', error);\n",
              "      }\n",
              "      quickchartButtonEl.classList.remove('colab-df-spinner');\n",
              "      quickchartButtonEl.classList.add('colab-df-quickchart-complete');\n",
              "    }\n",
              "    (() => {\n",
              "      let quickchartButtonEl =\n",
              "        document.querySelector('#df-83838035-6c7b-47e7-b921-fd8068e553ef button');\n",
              "      quickchartButtonEl.style.display =\n",
              "        google.colab.kernel.accessAllowed ? 'block' : 'none';\n",
              "    })();\n",
              "  </script>\n",
              "</div>\n",
              "\n",
              "    </div>\n",
              "  </div>\n"
            ],
            "application/vnd.google.colaboratory.intrinsic+json": {
              "type": "dataframe",
              "variable_name": "data",
              "summary": "{\n  \"name\": \"data\",\n  \"rows\": 2416,\n  \"fields\": [\n    {\n      \"column\": \"Date\",\n      \"properties\": {\n        \"dtype\": \"object\",\n        \"num_unique_values\": 2416,\n        \"samples\": [\n          \"2012-02-13\",\n          \"2011-04-12\",\n          \"2017-02-15\"\n        ],\n        \"semantic_type\": \"\",\n        \"description\": \"\"\n      }\n    },\n    {\n      \"column\": \"Open\",\n      \"properties\": {\n        \"dtype\": \"number\",\n        \"std\": 118.74016318157172,\n        \"min\": 16.139999,\n        \"max\": 673.690002,\n        \"num_unique_values\": 2132,\n        \"samples\": [\n          28.34,\n          258.75,\n          300.369995\n        ],\n        \"semantic_type\": \"\",\n        \"description\": \"\"\n      }\n    },\n    {\n      \"column\": \"High\",\n      \"properties\": {\n        \"dtype\": \"number\",\n        \"std\": 120.89232871387047,\n        \"min\": 16.629999,\n        \"max\": 786.140015,\n        \"num_unique_values\": 2128,\n        \"samples\": [\n          29.26,\n          222.899994,\n          337.75\n        ],\n        \"semantic_type\": \"\",\n        \"description\": \"\"\n      }\n    },\n    {\n      \"column\": \"Low\",\n      \"properties\": {\n        \"dtype\": \"number\",\n        \"std\": 116.85759099326673,\n        \"min\": 14.98,\n        \"max\": 673.52002,\n        \"num_unique_values\": 2136,\n        \"samples\": [\n          306.799988,\n          27.540001,\n          29.41\n        ],\n        \"semantic_type\": \"\",\n        \"description\": \"\"\n      }\n    },\n    {\n      \"column\": \"Close\",\n      \"properties\": {\n        \"dtype\": \"number\",\n        \"std\": 119.13601997634152,\n        \"min\": 15.8,\n        \"max\": 780.0,\n        \"num_unique_values\": 2225,\n        \"samples\": [\n          29.5,\n          29.66,\n          344.529999\n        ],\n        \"semantic_type\": \"\",\n        \"description\": \"\"\n      }\n    },\n    {\n      \"column\": \"Adj Close\",\n      \"properties\": {\n        \"dtype\": \"number\",\n        \"std\": 119.13601997634152,\n        \"min\": 15.8,\n        \"max\": 780.0,\n        \"num_unique_values\": 2225,\n        \"samples\": [\n          29.5,\n          29.66,\n          344.529999\n        ],\n        \"semantic_type\": \"\",\n        \"description\": \"\"\n      }\n    },\n    {\n      \"column\": \"Volume\",\n      \"properties\": {\n        \"dtype\": \"number\",\n        \"std\": 4987809,\n        \"min\": 118500,\n        \"max\": 47065000,\n        \"num_unique_values\": 2391,\n        \"samples\": [\n          7203200,\n          2810300,\n          6725100\n        ],\n        \"semantic_type\": \"\",\n        \"description\": \"\"\n      }\n    }\n  ]\n}"
            }
          },
          "metadata": {},
          "execution_count": 3
        }
      ],
      "source": [
        "data.head()"
      ]
    },
    {
      "cell_type": "markdown",
      "metadata": {
        "id": "2Tiyq4viIQnf"
      },
      "source": [
        "El conjunto de datos proporcionado contiene indicadores del comportamiento de una acción en función del día.\n"
      ]
    },
    {
      "cell_type": "code",
      "execution_count": null,
      "metadata": {
        "colab": {
          "base_uri": "https://localhost:8080/"
        },
        "id": "a3M1b451HDH5",
        "outputId": "4e7590b3-5475-49a1-fecc-f77941f550fb"
      },
      "outputs": [
        {
          "name": "stdout",
          "output_type": "stream",
          "text": [
            "<class 'pandas.core.frame.DataFrame'>\n",
            "RangeIndex: 2416 entries, 0 to 2415\n",
            "Data columns (total 7 columns):\n",
            " #   Column     Non-Null Count  Dtype  \n",
            "---  ------     --------------  -----  \n",
            " 0   Date       2416 non-null   object \n",
            " 1   Open       2416 non-null   float64\n",
            " 2   High       2416 non-null   float64\n",
            " 3   Low        2416 non-null   float64\n",
            " 4   Close      2416 non-null   float64\n",
            " 5   Adj Close  2416 non-null   float64\n",
            " 6   Volume     2416 non-null   int64  \n",
            "dtypes: float64(5), int64(1), object(1)\n",
            "memory usage: 132.2+ KB\n"
          ]
        }
      ],
      "source": [
        "data.info()"
      ]
    },
    {
      "cell_type": "code",
      "execution_count": null,
      "metadata": {
        "colab": {
          "base_uri": "https://localhost:8080/",
          "height": 300
        },
        "id": "jyzPOX54InsT",
        "outputId": "a3639f35-be82-4f45-8c2e-8016fcb7d0f2"
      },
      "outputs": [
        {
          "data": {
            "application/vnd.google.colaboratory.intrinsic+json": {
              "summary": "{\n  \"name\": \"data\",\n  \"rows\": 8,\n  \"fields\": [\n    {\n      \"column\": \"Open\",\n      \"properties\": {\n        \"dtype\": \"number\",\n        \"std\": 804.6429235166693,\n        \"min\": 16.139999,\n        \"max\": 2416.0,\n        \"num_unique_values\": 8,\n        \"samples\": [\n          186.27114660016557,\n          213.03500350000002,\n          2416.0\n        ],\n        \"semantic_type\": \"\",\n        \"description\": \"\"\n      }\n    },\n    {\n      \"column\": \"High\",\n      \"properties\": {\n        \"dtype\": \"number\",\n        \"std\": 808.4690436367141,\n        \"min\": 16.629999,\n        \"max\": 2416.0,\n        \"num_unique_values\": 8,\n        \"samples\": [\n          189.5782242562086,\n          216.7450025,\n          2416.0\n        ],\n        \"semantic_type\": \"\",\n        \"description\": \"\"\n      }\n    },\n    {\n      \"column\": \"Low\",\n      \"properties\": {\n        \"dtype\": \"number\",\n        \"std\": 805.4815043735603,\n        \"min\": 14.98,\n        \"max\": 2416.0,\n        \"num_unique_values\": 8,\n        \"samples\": [\n          182.91663908236757,\n          208.8700025,\n          2416.0\n        ],\n        \"semantic_type\": \"\",\n        \"description\": \"\"\n      }\n    },\n    {\n      \"column\": \"Close\",\n      \"properties\": {\n        \"dtype\": \"number\",\n        \"std\": 808.9456161112367,\n        \"min\": 15.8,\n        \"max\": 2416.0,\n        \"num_unique_values\": 8,\n        \"samples\": [\n          186.40365078187088,\n          212.960007,\n          2416.0\n        ],\n        \"semantic_type\": \"\",\n        \"description\": \"\"\n      }\n    },\n    {\n      \"column\": \"Adj Close\",\n      \"properties\": {\n        \"dtype\": \"number\",\n        \"std\": 808.9456161112367,\n        \"min\": 15.8,\n        \"max\": 2416.0,\n        \"num_unique_values\": 8,\n        \"samples\": [\n          186.40365078187088,\n          212.960007,\n          2416.0\n        ],\n        \"semantic_type\": \"\",\n        \"description\": \"\"\n      }\n    },\n    {\n      \"column\": \"Volume\",\n      \"properties\": {\n        \"dtype\": \"number\",\n        \"std\": 15626263.919572352,\n        \"min\": 2416.0,\n        \"max\": 47065000.0,\n        \"num_unique_values\": 8,\n        \"samples\": [\n          5572721.688741722,\n          4578400.0,\n          2416.0\n        ],\n        \"semantic_type\": \"\",\n        \"description\": \"\"\n      }\n    }\n  ]\n}",
              "type": "dataframe"
            },
            "text/html": [
              "\n",
              "  <div id=\"df-08236588-2727-4053-ad0a-f64ddeef512c\" class=\"colab-df-container\">\n",
              "    <div>\n",
              "<style scoped>\n",
              "    .dataframe tbody tr th:only-of-type {\n",
              "        vertical-align: middle;\n",
              "    }\n",
              "\n",
              "    .dataframe tbody tr th {\n",
              "        vertical-align: top;\n",
              "    }\n",
              "\n",
              "    .dataframe thead th {\n",
              "        text-align: right;\n",
              "    }\n",
              "</style>\n",
              "<table border=\"1\" class=\"dataframe\">\n",
              "  <thead>\n",
              "    <tr style=\"text-align: right;\">\n",
              "      <th></th>\n",
              "      <th>Open</th>\n",
              "      <th>High</th>\n",
              "      <th>Low</th>\n",
              "      <th>Close</th>\n",
              "      <th>Adj Close</th>\n",
              "      <th>Volume</th>\n",
              "    </tr>\n",
              "  </thead>\n",
              "  <tbody>\n",
              "    <tr>\n",
              "      <th>count</th>\n",
              "      <td>2416.000000</td>\n",
              "      <td>2416.000000</td>\n",
              "      <td>2416.000000</td>\n",
              "      <td>2416.000000</td>\n",
              "      <td>2416.000000</td>\n",
              "      <td>2.416000e+03</td>\n",
              "    </tr>\n",
              "    <tr>\n",
              "      <th>mean</th>\n",
              "      <td>186.271147</td>\n",
              "      <td>189.578224</td>\n",
              "      <td>182.916639</td>\n",
              "      <td>186.403651</td>\n",
              "      <td>186.403651</td>\n",
              "      <td>5.572722e+06</td>\n",
              "    </tr>\n",
              "    <tr>\n",
              "      <th>std</th>\n",
              "      <td>118.740163</td>\n",
              "      <td>120.892329</td>\n",
              "      <td>116.857591</td>\n",
              "      <td>119.136020</td>\n",
              "      <td>119.136020</td>\n",
              "      <td>4.987809e+06</td>\n",
              "    </tr>\n",
              "    <tr>\n",
              "      <th>min</th>\n",
              "      <td>16.139999</td>\n",
              "      <td>16.629999</td>\n",
              "      <td>14.980000</td>\n",
              "      <td>15.800000</td>\n",
              "      <td>15.800000</td>\n",
              "      <td>1.185000e+05</td>\n",
              "    </tr>\n",
              "    <tr>\n",
              "      <th>25%</th>\n",
              "      <td>34.342498</td>\n",
              "      <td>34.897501</td>\n",
              "      <td>33.587501</td>\n",
              "      <td>34.400002</td>\n",
              "      <td>34.400002</td>\n",
              "      <td>1.899275e+06</td>\n",
              "    </tr>\n",
              "    <tr>\n",
              "      <th>50%</th>\n",
              "      <td>213.035004</td>\n",
              "      <td>216.745002</td>\n",
              "      <td>208.870002</td>\n",
              "      <td>212.960007</td>\n",
              "      <td>212.960007</td>\n",
              "      <td>4.578400e+06</td>\n",
              "    </tr>\n",
              "    <tr>\n",
              "      <th>75%</th>\n",
              "      <td>266.450012</td>\n",
              "      <td>270.927513</td>\n",
              "      <td>262.102501</td>\n",
              "      <td>266.774994</td>\n",
              "      <td>266.774994</td>\n",
              "      <td>7.361150e+06</td>\n",
              "    </tr>\n",
              "    <tr>\n",
              "      <th>max</th>\n",
              "      <td>673.690002</td>\n",
              "      <td>786.140015</td>\n",
              "      <td>673.520020</td>\n",
              "      <td>780.000000</td>\n",
              "      <td>780.000000</td>\n",
              "      <td>4.706500e+07</td>\n",
              "    </tr>\n",
              "  </tbody>\n",
              "</table>\n",
              "</div>\n",
              "    <div class=\"colab-df-buttons\">\n",
              "\n",
              "  <div class=\"colab-df-container\">\n",
              "    <button class=\"colab-df-convert\" onclick=\"convertToInteractive('df-08236588-2727-4053-ad0a-f64ddeef512c')\"\n",
              "            title=\"Convert this dataframe to an interactive table.\"\n",
              "            style=\"display:none;\">\n",
              "\n",
              "  <svg xmlns=\"http://www.w3.org/2000/svg\" height=\"24px\" viewBox=\"0 -960 960 960\">\n",
              "    <path d=\"M120-120v-720h720v720H120Zm60-500h600v-160H180v160Zm220 220h160v-160H400v160Zm0 220h160v-160H400v160ZM180-400h160v-160H180v160Zm440 0h160v-160H620v160ZM180-180h160v-160H180v160Zm440 0h160v-160H620v160Z\"/>\n",
              "  </svg>\n",
              "    </button>\n",
              "\n",
              "  <style>\n",
              "    .colab-df-container {\n",
              "      display:flex;\n",
              "      gap: 12px;\n",
              "    }\n",
              "\n",
              "    .colab-df-convert {\n",
              "      background-color: #E8F0FE;\n",
              "      border: none;\n",
              "      border-radius: 50%;\n",
              "      cursor: pointer;\n",
              "      display: none;\n",
              "      fill: #1967D2;\n",
              "      height: 32px;\n",
              "      padding: 0 0 0 0;\n",
              "      width: 32px;\n",
              "    }\n",
              "\n",
              "    .colab-df-convert:hover {\n",
              "      background-color: #E2EBFA;\n",
              "      box-shadow: 0px 1px 2px rgba(60, 64, 67, 0.3), 0px 1px 3px 1px rgba(60, 64, 67, 0.15);\n",
              "      fill: #174EA6;\n",
              "    }\n",
              "\n",
              "    .colab-df-buttons div {\n",
              "      margin-bottom: 4px;\n",
              "    }\n",
              "\n",
              "    [theme=dark] .colab-df-convert {\n",
              "      background-color: #3B4455;\n",
              "      fill: #D2E3FC;\n",
              "    }\n",
              "\n",
              "    [theme=dark] .colab-df-convert:hover {\n",
              "      background-color: #434B5C;\n",
              "      box-shadow: 0px 1px 3px 1px rgba(0, 0, 0, 0.15);\n",
              "      filter: drop-shadow(0px 1px 2px rgba(0, 0, 0, 0.3));\n",
              "      fill: #FFFFFF;\n",
              "    }\n",
              "  </style>\n",
              "\n",
              "    <script>\n",
              "      const buttonEl =\n",
              "        document.querySelector('#df-08236588-2727-4053-ad0a-f64ddeef512c button.colab-df-convert');\n",
              "      buttonEl.style.display =\n",
              "        google.colab.kernel.accessAllowed ? 'block' : 'none';\n",
              "\n",
              "      async function convertToInteractive(key) {\n",
              "        const element = document.querySelector('#df-08236588-2727-4053-ad0a-f64ddeef512c');\n",
              "        const dataTable =\n",
              "          await google.colab.kernel.invokeFunction('convertToInteractive',\n",
              "                                                    [key], {});\n",
              "        if (!dataTable) return;\n",
              "\n",
              "        const docLinkHtml = 'Like what you see? Visit the ' +\n",
              "          '<a target=\"_blank\" href=https://colab.research.google.com/notebooks/data_table.ipynb>data table notebook</a>'\n",
              "          + ' to learn more about interactive tables.';\n",
              "        element.innerHTML = '';\n",
              "        dataTable['output_type'] = 'display_data';\n",
              "        await google.colab.output.renderOutput(dataTable, element);\n",
              "        const docLink = document.createElement('div');\n",
              "        docLink.innerHTML = docLinkHtml;\n",
              "        element.appendChild(docLink);\n",
              "      }\n",
              "    </script>\n",
              "  </div>\n",
              "\n",
              "\n",
              "<div id=\"df-b254d135-be58-40a9-9f50-9a9627e1ff84\">\n",
              "  <button class=\"colab-df-quickchart\" onclick=\"quickchart('df-b254d135-be58-40a9-9f50-9a9627e1ff84')\"\n",
              "            title=\"Suggest charts\"\n",
              "            style=\"display:none;\">\n",
              "\n",
              "<svg xmlns=\"http://www.w3.org/2000/svg\" height=\"24px\"viewBox=\"0 0 24 24\"\n",
              "     width=\"24px\">\n",
              "    <g>\n",
              "        <path d=\"M19 3H5c-1.1 0-2 .9-2 2v14c0 1.1.9 2 2 2h14c1.1 0 2-.9 2-2V5c0-1.1-.9-2-2-2zM9 17H7v-7h2v7zm4 0h-2V7h2v10zm4 0h-2v-4h2v4z\"/>\n",
              "    </g>\n",
              "</svg>\n",
              "  </button>\n",
              "\n",
              "<style>\n",
              "  .colab-df-quickchart {\n",
              "      --bg-color: #E8F0FE;\n",
              "      --fill-color: #1967D2;\n",
              "      --hover-bg-color: #E2EBFA;\n",
              "      --hover-fill-color: #174EA6;\n",
              "      --disabled-fill-color: #AAA;\n",
              "      --disabled-bg-color: #DDD;\n",
              "  }\n",
              "\n",
              "  [theme=dark] .colab-df-quickchart {\n",
              "      --bg-color: #3B4455;\n",
              "      --fill-color: #D2E3FC;\n",
              "      --hover-bg-color: #434B5C;\n",
              "      --hover-fill-color: #FFFFFF;\n",
              "      --disabled-bg-color: #3B4455;\n",
              "      --disabled-fill-color: #666;\n",
              "  }\n",
              "\n",
              "  .colab-df-quickchart {\n",
              "    background-color: var(--bg-color);\n",
              "    border: none;\n",
              "    border-radius: 50%;\n",
              "    cursor: pointer;\n",
              "    display: none;\n",
              "    fill: var(--fill-color);\n",
              "    height: 32px;\n",
              "    padding: 0;\n",
              "    width: 32px;\n",
              "  }\n",
              "\n",
              "  .colab-df-quickchart:hover {\n",
              "    background-color: var(--hover-bg-color);\n",
              "    box-shadow: 0 1px 2px rgba(60, 64, 67, 0.3), 0 1px 3px 1px rgba(60, 64, 67, 0.15);\n",
              "    fill: var(--button-hover-fill-color);\n",
              "  }\n",
              "\n",
              "  .colab-df-quickchart-complete:disabled,\n",
              "  .colab-df-quickchart-complete:disabled:hover {\n",
              "    background-color: var(--disabled-bg-color);\n",
              "    fill: var(--disabled-fill-color);\n",
              "    box-shadow: none;\n",
              "  }\n",
              "\n",
              "  .colab-df-spinner {\n",
              "    border: 2px solid var(--fill-color);\n",
              "    border-color: transparent;\n",
              "    border-bottom-color: var(--fill-color);\n",
              "    animation:\n",
              "      spin 1s steps(1) infinite;\n",
              "  }\n",
              "\n",
              "  @keyframes spin {\n",
              "    0% {\n",
              "      border-color: transparent;\n",
              "      border-bottom-color: var(--fill-color);\n",
              "      border-left-color: var(--fill-color);\n",
              "    }\n",
              "    20% {\n",
              "      border-color: transparent;\n",
              "      border-left-color: var(--fill-color);\n",
              "      border-top-color: var(--fill-color);\n",
              "    }\n",
              "    30% {\n",
              "      border-color: transparent;\n",
              "      border-left-color: var(--fill-color);\n",
              "      border-top-color: var(--fill-color);\n",
              "      border-right-color: var(--fill-color);\n",
              "    }\n",
              "    40% {\n",
              "      border-color: transparent;\n",
              "      border-right-color: var(--fill-color);\n",
              "      border-top-color: var(--fill-color);\n",
              "    }\n",
              "    60% {\n",
              "      border-color: transparent;\n",
              "      border-right-color: var(--fill-color);\n",
              "    }\n",
              "    80% {\n",
              "      border-color: transparent;\n",
              "      border-right-color: var(--fill-color);\n",
              "      border-bottom-color: var(--fill-color);\n",
              "    }\n",
              "    90% {\n",
              "      border-color: transparent;\n",
              "      border-bottom-color: var(--fill-color);\n",
              "    }\n",
              "  }\n",
              "</style>\n",
              "\n",
              "  <script>\n",
              "    async function quickchart(key) {\n",
              "      const quickchartButtonEl =\n",
              "        document.querySelector('#' + key + ' button');\n",
              "      quickchartButtonEl.disabled = true;  // To prevent multiple clicks.\n",
              "      quickchartButtonEl.classList.add('colab-df-spinner');\n",
              "      try {\n",
              "        const charts = await google.colab.kernel.invokeFunction(\n",
              "            'suggestCharts', [key], {});\n",
              "      } catch (error) {\n",
              "        console.error('Error during call to suggestCharts:', error);\n",
              "      }\n",
              "      quickchartButtonEl.classList.remove('colab-df-spinner');\n",
              "      quickchartButtonEl.classList.add('colab-df-quickchart-complete');\n",
              "    }\n",
              "    (() => {\n",
              "      let quickchartButtonEl =\n",
              "        document.querySelector('#df-b254d135-be58-40a9-9f50-9a9627e1ff84 button');\n",
              "      quickchartButtonEl.style.display =\n",
              "        google.colab.kernel.accessAllowed ? 'block' : 'none';\n",
              "    })();\n",
              "  </script>\n",
              "</div>\n",
              "\n",
              "    </div>\n",
              "  </div>\n"
            ],
            "text/plain": [
              "              Open         High          Low        Close    Adj Close  \\\n",
              "count  2416.000000  2416.000000  2416.000000  2416.000000  2416.000000   \n",
              "mean    186.271147   189.578224   182.916639   186.403651   186.403651   \n",
              "std     118.740163   120.892329   116.857591   119.136020   119.136020   \n",
              "min      16.139999    16.629999    14.980000    15.800000    15.800000   \n",
              "25%      34.342498    34.897501    33.587501    34.400002    34.400002   \n",
              "50%     213.035004   216.745002   208.870002   212.960007   212.960007   \n",
              "75%     266.450012   270.927513   262.102501   266.774994   266.774994   \n",
              "max     673.690002   786.140015   673.520020   780.000000   780.000000   \n",
              "\n",
              "             Volume  \n",
              "count  2.416000e+03  \n",
              "mean   5.572722e+06  \n",
              "std    4.987809e+06  \n",
              "min    1.185000e+05  \n",
              "25%    1.899275e+06  \n",
              "50%    4.578400e+06  \n",
              "75%    7.361150e+06  \n",
              "max    4.706500e+07  "
            ]
          },
          "execution_count": 90,
          "metadata": {},
          "output_type": "execute_result"
        }
      ],
      "source": [
        "data.describe()"
      ]
    },
    {
      "cell_type": "markdown",
      "metadata": {
        "id": "_TfO2hKgTJxS"
      },
      "source": [
        "De esta primera observación puede concluirse que en todos los casos (salvo en volumen) la media es menor a la mediana, esto nos indica distribuciones sesgadas hacia la izquierda.\n",
        "En el caso de close y volume, al analizar el mínimo, el máximo y la media se puede ver una gran dispersión de los datos.\n",
        "En el caso del volumen, la media es levemente mayor a la mediana y por lo tanto presenta una distribución sesgada hacia la derecha.\n",
        "\n",
        "Por otro lado, en todas las variables puede suponerse la presencia de outliers. Esta conclusión surge de la observación de la media,el mínimo y el máximo.\n",
        "\n",
        "Investigación:\n",
        "\n",
        "Si \"close\" y \"adj close\" son iguales, significa que no ha habido ningún evento corporativo que requiera ajuste en el precio de cierre. Esto podría deberse a que no se han pagado dividendos, no ha habido divisiones de acciones u otros eventos que requieran ajuste en el precio de cierre. En resumen, cuando \"close\" es igual a \"adj close\", no hay diferencia entre el precio de cierre y el precio de cierre ajustado, lo que indica que el precio de cierre refleja el valor final de la acción para ese día sin necesidad de ajustes adicionales.\n",
        "\n",
        "Adicionalmente los indicadores estadísticos de la variable close se encuentran muy cercanos a los de high:\n",
        "\n",
        "Investigación:\n",
        "\n",
        "El hecho de que el precio máximo esté cerca del precio de cierre puede ser interpretado de diferentes maneras por los inversores y analistas del mercado:\n",
        "\n",
        "Indicación de fuerza inicial seguida de debilidad: Puede sugerir que aunque la acción experimentó un fuerte impulso alcista inicial, no pudo mantener ese impulso y retrocedió hacia el cierre, lo que podría ser interpretado como una señal de debilidad en el corto plazo.\n",
        "\n",
        "Indicación de resistencia: Si el precio máximo está muy cerca del precio de cierre, podría indicar que hay una fuerte resistencia en el mercado alrededor de ese nivel de precio, lo que podría dificultar que la acción suba aún más en el futuro.\n",
        "\n",
        "Potencial de reversión: Dependiendo del contexto y de otros factores, este patrón también podría ser interpretado como una señal de que la acción está cerca de revertir su dirección y comenzar a declinar, especialmente si el precio de cierre se encuentra en la parte superior del rango de precios del día."
      ]
    },
    {
      "cell_type": "markdown",
      "metadata": {
        "id": "sDCLO4PSlR14"
      },
      "source": [
        "Empiezo analizando el precio de cierre de la acción\n",
        "\n",
        "Con el IQR veo la cantidad de outliers"
      ]
    },
    {
      "cell_type": "code",
      "execution_count": null,
      "metadata": {
        "colab": {
          "base_uri": "https://localhost:8080/"
        },
        "id": "Y149efFpivx2",
        "outputId": "70497a2e-102d-4f8c-b06b-a4308f881c08"
      },
      "outputs": [
        {
          "name": "stdout",
          "output_type": "stream",
          "text": [
            "Primer cuartil (Q1): 34.400002\n",
            "Tercer cuartil (Q3): 266.774994\n",
            "Rango intercuartílico (IQR): 232.374992\n",
            "Limite superior (limsup): 615.3374819999999\n",
            "Limite inferior (liminf): -314.16248599999994\n",
            "Cantidad de outliers 3\n"
          ]
        }
      ],
      "source": [
        "#Calculo el percentil 1 y el 3\n",
        "Q1 = np.percentile(data['Close'], 25)\n",
        "Q3 = np.percentile(data['Close'], 75)\n",
        "IQR = Q3 - Q1\n",
        "#Calculo los limites que me da el iqr\n",
        "limsup = (Q3 + 1.5*IQR)\n",
        "liminf = Q1 - 1.5*IQR\n",
        "\n",
        "print(\"Primer cuartil (Q1):\", Q1)\n",
        "print(\"Tercer cuartil (Q3):\", Q3)\n",
        "print(\"Rango intercuartílico (IQR):\", IQR)\n",
        "print(\"Limite superior (limsup):\", (Q3 + 1.5*IQR))\n",
        "print(\"Limite inferior (liminf):\",(Q1 - 1.5*IQR))\n",
        "\n",
        "#Cuento la cantidad de valores sobre limsup para ver el número de outliers:\n",
        "umbral = limsup\n",
        "conteo = (data['Close']>limsup).sum()+(data['Close']<liminf).sum()\n",
        "\n",
        "print(\"Cantidad de outliers\",conteo)\n"
      ]
    },
    {
      "cell_type": "markdown",
      "metadata": {
        "id": "PsekGRfAATk_"
      },
      "source": [
        "La variable Close tiene solo tres valores fuera del IQR"
      ]
    },
    {
      "cell_type": "code",
      "execution_count": null,
      "metadata": {
        "colab": {
          "base_uri": "https://localhost:8080/",
          "height": 428
        },
        "id": "_dhLXFPYiLSm",
        "outputId": "bd4a8644-a6ba-41e9-a4b1-65f99807a5e6"
      },
      "outputs": [
        {
          "data": {
            "text/plain": [
              "<Axes: ylabel='Close'>"
            ]
          },
          "execution_count": 92,
          "metadata": {},
          "output_type": "execute_result"
        },
        {
          "data": {
            "image/png": "[encoded data removed]",
            "text/plain": [
              "<Figure size 640x480 with 1 Axes>"
            ]
          },
          "metadata": {},
          "output_type": "display_data"
        }
      ],
      "source": [
        "sns.boxplot(data['Close'])"
      ]
    },
    {
      "cell_type": "markdown",
      "metadata": {
        "id": "N271l8TxEhdx"
      },
      "source": [
        "Efectuo el calculo del coeficiente de variación para analizar la variabilidad de close.\n",
        "\n",
        "Investigación:\n",
        "\n",
        "-Si el CV es bajo (por ejemplo, cercano al 0%), indica que los datos tienen poca variabilidad en relación con su media. Esto sugiere que los datos están bastante concentrados alrededor de la media.\n",
        "\n",
        "-Si el CV es alto (por ejemplo, mayor que el 15-20%), indica que los datos tienen una alta variabilidad en relación con su media. Esto sugiere que los datos están más dispersos alrededor de la media."
      ]
    },
    {
      "cell_type": "code",
      "execution_count": null,
      "metadata": {
        "colab": {
          "base_uri": "https://localhost:8080/"
        },
        "id": "K58tObNVD6YY",
        "outputId": "dbad4309-fd1a-4a9e-ab11-9a6d6f9bb4ce"
      },
      "outputs": [
        {
          "name": "stdout",
          "output_type": "stream",
          "text": [
            "CV:  63.89969364421806\n"
          ]
        }
      ],
      "source": [
        "#Calculo el coeficiente de variación para Close.\n",
        "mediaclose = np.mean(data['Close'])\n",
        "desvclose = np.std(data['Close'])\n",
        "cv = (desvclose/mediaclose)*100\n",
        "print(\"CV: \",cv)"
      ]
    },
    {
      "cell_type": "markdown",
      "metadata": {
        "id": "aLOrzHAKE1E0"
      },
      "source": [
        "Con un coeficiente aproximado de 64% podemos inferir una variabilidad grande de los datos."
      ]
    },
    {
      "cell_type": "code",
      "execution_count": null,
      "metadata": {
        "colab": {
          "base_uri": "https://localhost:8080/",
          "height": 564
        },
        "id": "oVR65mxYgnXc",
        "outputId": "0476de4d-dacf-42cd-8cb1-815a15f95726"
      },
      "outputs": [
        {
          "data": {
            "image/png": "[encoded data removed]",
            "text/plain": [
              "<Figure size 1000x600 with 1 Axes>"
            ]
          },
          "metadata": {},
          "output_type": "display_data"
        }
      ],
      "source": [
        "plt.figure(figsize=(10, 6))\n",
        "data['Close'].hist(bins=20, edgecolor='black')\n",
        "plt.xlabel('Close = Adj Close')\n",
        "plt.ylabel('Frecuencia')\n",
        "plt.title('Distribución de Close')\n",
        "plt.grid(True)\n",
        "plt.show()"
      ]
    },
    {
      "cell_type": "markdown",
      "metadata": {
        "id": "VTHevucsAZad"
      },
      "source": [
        "Al observar la distribución veo que se encuentra más sesgada hacia la izquierda aunque la media sea menor a la mediana, se observa una gran cola a la izquierda lo que explica el alto coeficiente de variabilidad.\n",
        "Adicionalmente puede verse que los precios de cierre de las acciones son con mayor frecuencia bajos."
      ]
    },
    {
      "cell_type": "code",
      "execution_count": null,
      "metadata": {
        "colab": {
          "base_uri": "https://localhost:8080/",
          "height": 581
        },
        "id": "ekg7J3BpfJcO",
        "outputId": "4e1d5202-7707-4df6-efbf-2be72d24a5b5"
      },
      "outputs": [
        {
          "data": {
            "text/plain": [
              "Text(0.5, 1.0, 'Precio de a lo largo del tiempo')"
            ]
          },
          "execution_count": 95,
          "metadata": {},
          "output_type": "execute_result"
        },
        {
          "data": {
            "image/png": "[encoded data removed]",
            "text/plain": [
              "<Figure size 1000x600 with 1 Axes>"
            ]
          },
          "metadata": {},
          "output_type": "display_data"
        }
      ],
      "source": [
        "df = pd.DataFrame(data)\n",
        "\n",
        "# Convertir la columna 'Date' al tipo de dato datetime si no está en ese formato\n",
        "df['Date'] = pd.to_datetime(df['Date'])\n",
        "\n",
        "# Crear el gráfico de líneas\n",
        "plt.figure(figsize=(10, 6))\n",
        "plt.plot(df['Date'], df['Close'], marker='o', linestyle='-')\n",
        "\n",
        "# Agregar etiquetas y título\n",
        "plt.xlabel('Fecha')\n",
        "plt.ylabel('Close')\n",
        "plt.title('Precio de a lo largo del tiempo')"
      ]
    },
    {
      "cell_type": "markdown",
      "metadata": {
        "id": "Q82cDrdAiY1v"
      },
      "source": [
        "El precio de cierre de las acciones de TESLA creció a lo largo del tiempo teniendo un fuerte salto en el año 2020. En un contexto de pandemia, como lo fue el 2020, ¿Porqué se produjo este salto tan grande?\n",
        "\n",
        "Investigación:\n",
        "\n",
        "Los diarios y medios de comunicación indican que hay numerosas razones por las que Tesla aumentó sus acciones en gran medida durante el 2020. A continuación se adjuntan algunas de las mismas:\n",
        "-En el año 2020 la empresa entregó una mayor cantidad de autos y lanzó un nuevo modelo antes de lo previsto.\n",
        "\n",
        "-Debido a políticas medioambientales de emisiones cero, los vehiculos eléctricos estuvieron en auge durante este año.\n",
        "\n",
        "-El factor mas importante a mi parecer fue un split de acciones realizado por TESLA en el 2020. Durante este año se efectuó una división 5 en 1, esto puede causar los siguientes efectos:\n",
        "\n",
        "Percepción de valor: Los splits de acciones pueden interpretarse como una señal positiva por parte de los inversores, lo que puede llevar a un aumento en la demanda de las acciones y, por lo tanto, a un aumento en su precio.\n",
        "\n",
        "Aumento de la liquidez: Si el split de acciones atrae a más inversores, podría aumentar la liquidez del mercado, lo que a su vez podría impulsar el precio de las acciones.\n",
        "\n",
        "Confianza en el crecimiento futuro: Una empresa que realiza un split de acciones a menudo lo hace porque cree que su valor está en aumento y que las acciones seguirán apreciándose en el futuro. Esta confianza puede ser compartida por los inversores, lo que puede llevar a un aumento del precio de las acciones."
      ]
    },
    {
      "cell_type": "markdown",
      "metadata": {
        "id": "OqThhPILA9NH"
      },
      "source": [
        "Empiezo con un análisis de la variable volumen."
      ]
    },
    {
      "cell_type": "code",
      "execution_count": null,
      "metadata": {
        "colab": {
          "base_uri": "https://localhost:8080/",
          "height": 443
        },
        "id": "3y-DRjfthOuu",
        "outputId": "cf468310-a6fd-4f41-90e8-32936ee2eabd"
      },
      "outputs": [
        {
          "data": {
            "text/plain": [
              "<Axes: ylabel='Volume'>"
            ]
          },
          "execution_count": 96,
          "metadata": {},
          "output_type": "execute_result"
        },
        {
          "data": {
            "image/png": "[encoded data removed]",
            "text/plain": [
              "<Figure size 640x480 with 1 Axes>"
            ]
          },
          "metadata": {},
          "output_type": "display_data"
        }
      ],
      "source": [
        "sns.boxplot(data['Volume'])"
      ]
    },
    {
      "cell_type": "markdown",
      "metadata": {
        "id": "17NZ4KYbos0o"
      },
      "source": [
        "La variable \"volumen\" tiene mucha mayor cantidad de outliers que la variable \"close\"."
      ]
    },
    {
      "cell_type": "code",
      "execution_count": null,
      "metadata": {
        "colab": {
          "base_uri": "https://localhost:8080/"
        },
        "id": "b6KlA70sieuK",
        "outputId": "e58dac4c-5761-41df-a830-e5748be62e02"
      },
      "outputs": [
        {
          "name": "stdout",
          "output_type": "stream",
          "text": [
            "Primer cuartil (Q1): 1899275.0\n",
            "Tercer cuartil (Q3): 7361150.0\n",
            "Rango intercuartílico (IQR): 5461875.0\n",
            "Limite superior (limsup): 15553962.5\n",
            "Limite inferior (liminf): -6293537.5\n",
            "Cantidad de outliers 110\n"
          ]
        }
      ],
      "source": [
        "#Calculo el percentil 1 y el 3\n",
        "Q1 = np.percentile(data['Volume'], 25)\n",
        "Q3 = np.percentile(data['Volume'], 75)\n",
        "IQR = Q3 - Q1\n",
        "#Calculo los limites que me da el iqr\n",
        "limsup = (Q3 + 1.5*IQR)\n",
        "liminf = Q1 - 1.5*IQR\n",
        "\n",
        "print(\"Primer cuartil (Q1):\", Q1)\n",
        "print(\"Tercer cuartil (Q3):\", Q3)\n",
        "print(\"Rango intercuartílico (IQR):\", IQR)\n",
        "print(\"Limite superior (limsup):\", (Q3 + 1.5*IQR))\n",
        "print(\"Limite inferior (liminf):\",(Q1 - 1.5*IQR))\n",
        "\n",
        "#Cuento la cantidad de valores sobre limsup para ver el número de outliers:\n",
        "umbral = limsup\n",
        "conteo = (data['Volume']>limsup).sum()+(data['Volume']<liminf).sum()\n",
        "\n",
        "print(\"Cantidad de outliers\",conteo)"
      ]
    },
    {
      "cell_type": "markdown",
      "metadata": {
        "id": "K9XkTwf7BCpI"
      },
      "source": [
        "Efectivamente \"Volume\" tiene 110 outliers y como veremos a continuación se encuentra sesgada hacia la derecha, esto explica que la media sea mayor a la mediana. No efectuo la eliminación de outlier ni de \"Close\" ni de \"Volume\" ya que considero que los mismos son valores atípicos pero no erroneos. No quisiera perder estos datos de mi set ya que me podrían estar indicando el momento donde se produce el alza en el precio de las acciones, factor que deseo estudiar."
      ]
    },
    {
      "cell_type": "code",
      "execution_count": null,
      "metadata": {
        "colab": {
          "base_uri": "https://localhost:8080/"
        },
        "id": "a-H3uU9XEwS-",
        "outputId": "07f47738-0300-46f9-8bbf-b4767d00b09d"
      },
      "outputs": [
        {
          "name": "stdout",
          "output_type": "stream",
          "text": [
            "CV:  89.48548085320456\n"
          ]
        }
      ],
      "source": [
        "#Al igual que con close calculo el cv:\n",
        "mediavol = np.mean(data['Volume'])\n",
        "desvvol = np.std(data['Volume'])\n",
        "cv = (desvvol/mediavol)*100\n",
        "print(\"CV: \",cv)"
      ]
    },
    {
      "cell_type": "markdown",
      "metadata": {
        "id": "1KA4MFAcFMR_"
      },
      "source": [
        "La variable volumen presenta mayor CV que close, esto indica una mayor variabilidad. Este aspecto se pone de manifiesto con la simple observación del boxplot más arriba."
      ]
    },
    {
      "cell_type": "code",
      "execution_count": null,
      "metadata": {
        "colab": {
          "base_uri": "https://localhost:8080/",
          "height": 564
        },
        "id": "OdDOZ9xzf85n",
        "outputId": "345c0fbe-5afa-4ce8-a1f3-273e4ded8304"
      },
      "outputs": [
        {
          "data": {
            "image/png": "[encoded data removed]",
            "text/plain": [
              "<Figure size 1000x600 with 1 Axes>"
            ]
          },
          "metadata": {},
          "output_type": "display_data"
        }
      ],
      "source": [
        "plt.figure(figsize=(10, 6))\n",
        "data['Volume'].hist(bins=20, edgecolor='black')\n",
        "plt.xlabel('Volume')\n",
        "plt.ylabel('Frecuencia')\n",
        "plt.title('Distribución de Volume')\n",
        "plt.grid(True)\n",
        "plt.show()\n"
      ]
    },
    {
      "cell_type": "markdown",
      "metadata": {
        "id": "ewzwd0kWgVaF"
      },
      "source": [
        "La distribución del volumen muestra que la mayor cantidad de valores de volumen de negociación de acciones son bajos. Por otro lado, se ve una con una cola hacía la izquierda como bien lo inferimos al comparar la media y la mediana."
      ]
    },
    {
      "cell_type": "code",
      "execution_count": null,
      "metadata": {
        "colab": {
          "base_uri": "https://localhost:8080/",
          "height": 582
        },
        "id": "_UtksAKSeMlY",
        "outputId": "95aa121a-f7a9-4eca-dd54-b55147ea8565"
      },
      "outputs": [
        {
          "data": {
            "text/plain": [
              "Text(0.5, 1.0, 'Volumen de negociación a lo largo del tiempo')"
            ]
          },
          "execution_count": 99,
          "metadata": {},
          "output_type": "execute_result"
        },
        {
          "data": {
            "image/png": "[encoded data removed]",
            "text/plain": [
              "<Figure size 1000x600 with 1 Axes>"
            ]
          },
          "metadata": {},
          "output_type": "display_data"
        }
      ],
      "source": [
        "df = pd.DataFrame(data)\n",
        "\n",
        "df['Date'] = pd.to_datetime(df['Date'])\n",
        "\n",
        "# Crear el gráfico de líneas\n",
        "plt.figure(figsize=(10, 6))\n",
        "plt.plot(df['Date'], df['Volume'], marker='o', linestyle='-')\n",
        "\n",
        "# Agregar etiquetas y título\n",
        "plt.xlabel('Fecha')\n",
        "plt.ylabel('Volumen')\n",
        "plt.title('Volumen de negociación a lo largo del tiempo')\n"
      ]
    },
    {
      "cell_type": "markdown",
      "metadata": {
        "id": "_eSCpLFzfi5z"
      },
      "source": [
        "Como puede verse el volumen de negociación efectivamente creció a lo largo del tiempo. Puede observarse que el momento donde el volumen hace un salto (año 2020) se condice con el momento donde el precio levanta abruptamente.\n",
        "Es probable que como el volumen negociado de una acción puede traducirse como \"la demanda de esa acción\", una suba en dicha variable impacte directamente en una suba en el precio simplemente por oferta-demanda.\n",
        "\n",
        "Investigación:\n",
        "\n",
        "El indicador On-Balance Volume (OBV) mide la presión de compra y venta como un indicador acumulativo que suma el volumen en días de alza y resta el volumen en días de baja.\n",
        "\n",
        "Si el valor del activo cierra más alto que el cierre anterior, todo el volumen del día se considera volumen al alza.\n",
        "\n",
        "Si el valor del activo cierra más bajo que el cierre anterior, todo el volumen del día se considera volumen a la baja.\n",
        "Si el precio de la acción sube y el OBV también lo hace entonces tenemos una tendencia alcista.\n"
      ]
    },
    {
      "cell_type": "code",
      "execution_count": null,
      "metadata": {
        "colab": {
          "base_uri": "https://localhost:8080/",
          "height": 467
        },
        "id": "Kytdrx2L3l_Y",
        "outputId": "bcb252e4-025a-4add-e43d-7bfe15e44445"
      },
      "outputs": [
        {
          "data": {
            "image/png": "[encoded data removed]",
            "text/plain": [
              "<Figure size 1000x600 with 1 Axes>"
            ]
          },
          "metadata": {},
          "output_type": "display_data"
        }
      ],
      "source": [
        "#Mediante este codigo proporcionado por chatGPT grafico el indicador OBV\n",
        "# Calcula el cambio de precio diario\n",
        "#data = df\n",
        "data['Change'] = data['Close'].diff()\n",
        "\n",
        "# Asigna el volumen a 1 si el cambio de precio es positivo y -1 si es negativo\n",
        "data['Direction'] = pd.cut(data['Change'], bins=[-float(\"inf\"), 0, float(\"inf\")], labels=[-1, 1])\n",
        "\n",
        "# Convierte la columna 'Direction' a tipo numérico\n",
        "data['Direction'] = data['Direction'].astype(float)\n",
        "\n",
        "# Calcula el cambio de volumen diario multiplicado por la dirección del precio\n",
        "data['OBV'] = (data['Volume'] * data['Direction']).cumsum()\n",
        "\n",
        "# Grafica el OBV\n",
        "plt.figure(figsize=(10, 6))\n",
        "plt.plot(data['Date'], data['OBV'], color='blue', lw=2)\n",
        "plt.xlabel('Fecha')\n",
        "plt.ylabel('OBV')\n",
        "plt.title('Gráfico de Balance de Volumen (OBV)')\n",
        "plt.grid(True)\n",
        "plt.tight_layout()\n",
        "plt.show()"
      ]
    },
    {
      "cell_type": "markdown",
      "metadata": {
        "id": "WqU1H__0_E-n"
      },
      "source": [
        "El OBV muestra una tendencia muy similar a la del precio en función del tiempo, por esta razón podria intentarse la predicción del precio de la acción con el OBV. Si el mismo viene en alza, entonces el precio también seguirá esta tendencia.\n",
        "\n",
        "**ELECCIÓN DEL MODELO:**\n",
        "\n",
        "Para el estudio de la evolución del precio de las acciones de TESLA utilizaré un modelo de series de tiempo. Mediante el mismo analizaré la tendencia seguida por los indicadores Close y Volume buscaré predecir como se comportará la acción durante el tiempo. Si los indicadores tienen una tendencia positiva, indica un aumento de precio en el mercado, esto podría verse como un incentivo para realizar la compra de las acciones.\n",
        "\n",
        "POSTERIORMENTE HABÍA PROPUESTO UTILIZAR EL INDICADOR OBV PERO POR SIMPLICIDAD UTILIZO LOS PARÁMETROS CLOSE Y VOLUME."
      ]
    },
    {
      "cell_type": "markdown",
      "metadata": {
        "id": "jDyRF1zpDwGJ"
      },
      "source": []
    },
    {
      "cell_type": "code",
      "execution_count": null,
      "metadata": {
        "colab": {
          "base_uri": "https://localhost:8080/",
          "height": 206
        },
        "id": "45xSEhGa--zm",
        "outputId": "09554db8-6a98-4dc0-92c5-26787fabc7fc"
      },
      "outputs": [
        {
          "data": {
            "application/vnd.google.colaboratory.intrinsic+json": {
              "summary": "{\n  \"name\": \"data\",\n  \"rows\": 2416,\n  \"fields\": [\n    {\n      \"column\": \"Date\",\n      \"properties\": {\n        \"dtype\": \"object\",\n        \"num_unique_values\": 2416,\n        \"samples\": [\n          \"2012-02-13\",\n          \"2011-04-12\",\n          \"2017-02-15\"\n        ],\n        \"semantic_type\": \"\",\n        \"description\": \"\"\n      }\n    },\n    {\n      \"column\": \"Open\",\n      \"properties\": {\n        \"dtype\": \"number\",\n        \"std\": 118.74016318157172,\n        \"min\": 16.139999,\n        \"max\": 673.690002,\n        \"num_unique_values\": 2132,\n        \"samples\": [\n          28.34,\n          258.75,\n          300.369995\n        ],\n        \"semantic_type\": \"\",\n        \"description\": \"\"\n      }\n    },\n    {\n      \"column\": \"High\",\n      \"properties\": {\n        \"dtype\": \"number\",\n        \"std\": 120.89232871387047,\n        \"min\": 16.629999,\n        \"max\": 786.140015,\n        \"num_unique_values\": 2128,\n        \"samples\": [\n          29.26,\n          222.899994,\n          337.75\n        ],\n        \"semantic_type\": \"\",\n        \"description\": \"\"\n      }\n    },\n    {\n      \"column\": \"Low\",\n      \"properties\": {\n        \"dtype\": \"number\",\n        \"std\": 116.85759099326673,\n        \"min\": 14.98,\n        \"max\": 673.52002,\n        \"num_unique_values\": 2136,\n        \"samples\": [\n          306.799988,\n          27.540001,\n          29.41\n        ],\n        \"semantic_type\": \"\",\n        \"description\": \"\"\n      }\n    },\n    {\n      \"column\": \"Close\",\n      \"properties\": {\n        \"dtype\": \"number\",\n        \"std\": 119.13601997634152,\n        \"min\": 15.8,\n        \"max\": 780.0,\n        \"num_unique_values\": 2225,\n        \"samples\": [\n          29.5,\n          29.66,\n          344.529999\n        ],\n        \"semantic_type\": \"\",\n        \"description\": \"\"\n      }\n    },\n    {\n      \"column\": \"Adj Close\",\n      \"properties\": {\n        \"dtype\": \"number\",\n        \"std\": 119.13601997634152,\n        \"min\": 15.8,\n        \"max\": 780.0,\n        \"num_unique_values\": 2225,\n        \"samples\": [\n          29.5,\n          29.66,\n          344.529999\n        ],\n        \"semantic_type\": \"\",\n        \"description\": \"\"\n      }\n    },\n    {\n      \"column\": \"Volume\",\n      \"properties\": {\n        \"dtype\": \"number\",\n        \"std\": 4987809,\n        \"min\": 118500,\n        \"max\": 47065000,\n        \"num_unique_values\": 2391,\n        \"samples\": [\n          7203200,\n          2810300,\n          6725100\n        ],\n        \"semantic_type\": \"\",\n        \"description\": \"\"\n      }\n    }\n  ]\n}",
              "type": "dataframe",
              "variable_name": "data"
            },
            "text/html": [
              "\n",
              "  <div id=\"df-cff927db-1513-41c4-8452-b00a7df71465\" class=\"colab-df-container\">\n",
              "    <div>\n",
              "<style scoped>\n",
              "    .dataframe tbody tr th:only-of-type {\n",
              "        vertical-align: middle;\n",
              "    }\n",
              "\n",
              "    .dataframe tbody tr th {\n",
              "        vertical-align: top;\n",
              "    }\n",
              "\n",
              "    .dataframe thead th {\n",
              "        text-align: right;\n",
              "    }\n",
              "</style>\n",
              "<table border=\"1\" class=\"dataframe\">\n",
              "  <thead>\n",
              "    <tr style=\"text-align: right;\">\n",
              "      <th></th>\n",
              "      <th>Date</th>\n",
              "      <th>Open</th>\n",
              "      <th>High</th>\n",
              "      <th>Low</th>\n",
              "      <th>Close</th>\n",
              "      <th>Adj Close</th>\n",
              "      <th>Volume</th>\n",
              "    </tr>\n",
              "  </thead>\n",
              "  <tbody>\n",
              "    <tr>\n",
              "      <th>0</th>\n",
              "      <td>2010-06-29</td>\n",
              "      <td>19.000000</td>\n",
              "      <td>25.00</td>\n",
              "      <td>17.540001</td>\n",
              "      <td>23.889999</td>\n",
              "      <td>23.889999</td>\n",
              "      <td>18766300</td>\n",
              "    </tr>\n",
              "    <tr>\n",
              "      <th>1</th>\n",
              "      <td>2010-06-30</td>\n",
              "      <td>25.790001</td>\n",
              "      <td>30.42</td>\n",
              "      <td>23.299999</td>\n",
              "      <td>23.830000</td>\n",
              "      <td>23.830000</td>\n",
              "      <td>17187100</td>\n",
              "    </tr>\n",
              "    <tr>\n",
              "      <th>2</th>\n",
              "      <td>2010-07-01</td>\n",
              "      <td>25.000000</td>\n",
              "      <td>25.92</td>\n",
              "      <td>20.270000</td>\n",
              "      <td>21.959999</td>\n",
              "      <td>21.959999</td>\n",
              "      <td>8218800</td>\n",
              "    </tr>\n",
              "    <tr>\n",
              "      <th>3</th>\n",
              "      <td>2010-07-02</td>\n",
              "      <td>23.000000</td>\n",
              "      <td>23.10</td>\n",
              "      <td>18.709999</td>\n",
              "      <td>19.200001</td>\n",
              "      <td>19.200001</td>\n",
              "      <td>5139800</td>\n",
              "    </tr>\n",
              "    <tr>\n",
              "      <th>4</th>\n",
              "      <td>2010-07-06</td>\n",
              "      <td>20.000000</td>\n",
              "      <td>20.00</td>\n",
              "      <td>15.830000</td>\n",
              "      <td>16.110001</td>\n",
              "      <td>16.110001</td>\n",
              "      <td>6866900</td>\n",
              "    </tr>\n",
              "  </tbody>\n",
              "</table>\n",
              "</div>\n",
              "    <div class=\"colab-df-buttons\">\n",
              "\n",
              "  <div class=\"colab-df-container\">\n",
              "    <button class=\"colab-df-convert\" onclick=\"convertToInteractive('df-cff927db-1513-41c4-8452-b00a7df71465')\"\n",
              "            title=\"Convert this dataframe to an interactive table.\"\n",
              "            style=\"display:none;\">\n",
              "\n",
              "  <svg xmlns=\"http://www.w3.org/2000/svg\" height=\"24px\" viewBox=\"0 -960 960 960\">\n",
              "    <path d=\"M120-120v-720h720v720H120Zm60-500h600v-160H180v160Zm220 220h160v-160H400v160Zm0 220h160v-160H400v160ZM180-400h160v-160H180v160Zm440 0h160v-160H620v160ZM180-180h160v-160H180v160Zm440 0h160v-160H620v160Z\"/>\n",
              "  </svg>\n",
              "    </button>\n",
              "\n",
              "  <style>\n",
              "    .colab-df-container {\n",
              "      display:flex;\n",
              "      gap: 12px;\n",
              "    }\n",
              "\n",
              "    .colab-df-convert {\n",
              "      background-color: #E8F0FE;\n",
              "      border: none;\n",
              "      border-radius: 50%;\n",
              "      cursor: pointer;\n",
              "      display: none;\n",
              "      fill: #1967D2;\n",
              "      height: 32px;\n",
              "      padding: 0 0 0 0;\n",
              "      width: 32px;\n",
              "    }\n",
              "\n",
              "    .colab-df-convert:hover {\n",
              "      background-color: #E2EBFA;\n",
              "      box-shadow: 0px 1px 2px rgba(60, 64, 67, 0.3), 0px 1px 3px 1px rgba(60, 64, 67, 0.15);\n",
              "      fill: #174EA6;\n",
              "    }\n",
              "\n",
              "    .colab-df-buttons div {\n",
              "      margin-bottom: 4px;\n",
              "    }\n",
              "\n",
              "    [theme=dark] .colab-df-convert {\n",
              "      background-color: #3B4455;\n",
              "      fill: #D2E3FC;\n",
              "    }\n",
              "\n",
              "    [theme=dark] .colab-df-convert:hover {\n",
              "      background-color: #434B5C;\n",
              "      box-shadow: 0px 1px 3px 1px rgba(0, 0, 0, 0.15);\n",
              "      filter: drop-shadow(0px 1px 2px rgba(0, 0, 0, 0.3));\n",
              "      fill: #FFFFFF;\n",
              "    }\n",
              "  </style>\n",
              "\n",
              "    <script>\n",
              "      const buttonEl =\n",
              "        document.querySelector('#df-cff927db-1513-41c4-8452-b00a7df71465 button.colab-df-convert');\n",
              "      buttonEl.style.display =\n",
              "        google.colab.kernel.accessAllowed ? 'block' : 'none';\n",
              "\n",
              "      async function convertToInteractive(key) {\n",
              "        const element = document.querySelector('#df-cff927db-1513-41c4-8452-b00a7df71465');\n",
              "        const dataTable =\n",
              "          await google.colab.kernel.invokeFunction('convertToInteractive',\n",
              "                                                    [key], {});\n",
              "        if (!dataTable) return;\n",
              "\n",
              "        const docLinkHtml = 'Like what you see? Visit the ' +\n",
              "          '<a target=\"_blank\" href=https://colab.research.google.com/notebooks/data_table.ipynb>data table notebook</a>'\n",
              "          + ' to learn more about interactive tables.';\n",
              "        element.innerHTML = '';\n",
              "        dataTable['output_type'] = 'display_data';\n",
              "        await google.colab.output.renderOutput(dataTable, element);\n",
              "        const docLink = document.createElement('div');\n",
              "        docLink.innerHTML = docLinkHtml;\n",
              "        element.appendChild(docLink);\n",
              "      }\n",
              "    </script>\n",
              "  </div>\n",
              "\n",
              "\n",
              "<div id=\"df-d35bf852-b245-4efd-a9b0-028c1341e4c4\">\n",
              "  <button class=\"colab-df-quickchart\" onclick=\"quickchart('df-d35bf852-b245-4efd-a9b0-028c1341e4c4')\"\n",
              "            title=\"Suggest charts\"\n",
              "            style=\"display:none;\">\n",
              "\n",
              "<svg xmlns=\"http://www.w3.org/2000/svg\" height=\"24px\"viewBox=\"0 0 24 24\"\n",
              "     width=\"24px\">\n",
              "    <g>\n",
              "        <path d=\"M19 3H5c-1.1 0-2 .9-2 2v14c0 1.1.9 2 2 2h14c1.1 0 2-.9 2-2V5c0-1.1-.9-2-2-2zM9 17H7v-7h2v7zm4 0h-2V7h2v10zm4 0h-2v-4h2v4z\"/>\n",
              "    </g>\n",
              "</svg>\n",
              "  </button>\n",
              "\n",
              "<style>\n",
              "  .colab-df-quickchart {\n",
              "      --bg-color: #E8F0FE;\n",
              "      --fill-color: #1967D2;\n",
              "      --hover-bg-color: #E2EBFA;\n",
              "      --hover-fill-color: #174EA6;\n",
              "      --disabled-fill-color: #AAA;\n",
              "      --disabled-bg-color: #DDD;\n",
              "  }\n",
              "\n",
              "  [theme=dark] .colab-df-quickchart {\n",
              "      --bg-color: #3B4455;\n",
              "      --fill-color: #D2E3FC;\n",
              "      --hover-bg-color: #434B5C;\n",
              "      --hover-fill-color: #FFFFFF;\n",
              "      --disabled-bg-color: #3B4455;\n",
              "      --disabled-fill-color: #666;\n",
              "  }\n",
              "\n",
              "  .colab-df-quickchart {\n",
              "    background-color: var(--bg-color);\n",
              "    border: none;\n",
              "    border-radius: 50%;\n",
              "    cursor: pointer;\n",
              "    display: none;\n",
              "    fill: var(--fill-color);\n",
              "    height: 32px;\n",
              "    padding: 0;\n",
              "    width: 32px;\n",
              "  }\n",
              "\n",
              "  .colab-df-quickchart:hover {\n",
              "    background-color: var(--hover-bg-color);\n",
              "    box-shadow: 0 1px 2px rgba(60, 64, 67, 0.3), 0 1px 3px 1px rgba(60, 64, 67, 0.15);\n",
              "    fill: var(--button-hover-fill-color);\n",
              "  }\n",
              "\n",
              "  .colab-df-quickchart-complete:disabled,\n",
              "  .colab-df-quickchart-complete:disabled:hover {\n",
              "    background-color: var(--disabled-bg-color);\n",
              "    fill: var(--disabled-fill-color);\n",
              "    box-shadow: none;\n",
              "  }\n",
              "\n",
              "  .colab-df-spinner {\n",
              "    border: 2px solid var(--fill-color);\n",
              "    border-color: transparent;\n",
              "    border-bottom-color: var(--fill-color);\n",
              "    animation:\n",
              "      spin 1s steps(1) infinite;\n",
              "  }\n",
              "\n",
              "  @keyframes spin {\n",
              "    0% {\n",
              "      border-color: transparent;\n",
              "      border-bottom-color: var(--fill-color);\n",
              "      border-left-color: var(--fill-color);\n",
              "    }\n",
              "    20% {\n",
              "      border-color: transparent;\n",
              "      border-left-color: var(--fill-color);\n",
              "      border-top-color: var(--fill-color);\n",
              "    }\n",
              "    30% {\n",
              "      border-color: transparent;\n",
              "      border-left-color: var(--fill-color);\n",
              "      border-top-color: var(--fill-color);\n",
              "      border-right-color: var(--fill-color);\n",
              "    }\n",
              "    40% {\n",
              "      border-color: transparent;\n",
              "      border-right-color: var(--fill-color);\n",
              "      border-top-color: var(--fill-color);\n",
              "    }\n",
              "    60% {\n",
              "      border-color: transparent;\n",
              "      border-right-color: var(--fill-color);\n",
              "    }\n",
              "    80% {\n",
              "      border-color: transparent;\n",
              "      border-right-color: var(--fill-color);\n",
              "      border-bottom-color: var(--fill-color);\n",
              "    }\n",
              "    90% {\n",
              "      border-color: transparent;\n",
              "      border-bottom-color: var(--fill-color);\n",
              "    }\n",
              "  }\n",
              "</style>\n",
              "\n",
              "  <script>\n",
              "    async function quickchart(key) {\n",
              "      const quickchartButtonEl =\n",
              "        document.querySelector('#' + key + ' button');\n",
              "      quickchartButtonEl.disabled = true;  // To prevent multiple clicks.\n",
              "      quickchartButtonEl.classList.add('colab-df-spinner');\n",
              "      try {\n",
              "        const charts = await google.colab.kernel.invokeFunction(\n",
              "            'suggestCharts', [key], {});\n",
              "      } catch (error) {\n",
              "        console.error('Error during call to suggestCharts:', error);\n",
              "      }\n",
              "      quickchartButtonEl.classList.remove('colab-df-spinner');\n",
              "      quickchartButtonEl.classList.add('colab-df-quickchart-complete');\n",
              "    }\n",
              "    (() => {\n",
              "      let quickchartButtonEl =\n",
              "        document.querySelector('#df-d35bf852-b245-4efd-a9b0-028c1341e4c4 button');\n",
              "      quickchartButtonEl.style.display =\n",
              "        google.colab.kernel.accessAllowed ? 'block' : 'none';\n",
              "    })();\n",
              "  </script>\n",
              "</div>\n",
              "\n",
              "    </div>\n",
              "  </div>\n"
            ],
            "text/plain": [
              "         Date       Open   High        Low      Close  Adj Close    Volume\n",
              "0  2010-06-29  19.000000  25.00  17.540001  23.889999  23.889999  18766300\n",
              "1  2010-06-30  25.790001  30.42  23.299999  23.830000  23.830000  17187100\n",
              "2  2010-07-01  25.000000  25.92  20.270000  21.959999  21.959999   8218800\n",
              "3  2010-07-02  23.000000  23.10  18.709999  19.200001  19.200001   5139800\n",
              "4  2010-07-06  20.000000  20.00  15.830000  16.110001  16.110001   6866900"
            ]
          },
          "execution_count": 26,
          "metadata": {},
          "output_type": "execute_result"
        }
      ],
      "source": [
        "data.head()"
      ]
    },
    {
      "cell_type": "markdown",
      "metadata": {
        "id": "BTEq5-Lap1Gt"
      },
      "source": [
        "FEATURE SELECTION:"
      ]
    },
    {
      "cell_type": "code",
      "execution_count": null,
      "metadata": {
        "colab": {
          "base_uri": "https://localhost:8080/",
          "height": 432
        },
        "id": "GG-mqgv4oaGX",
        "outputId": "1952b0e4-f8f3-463a-bce9-15cb0637ac14"
      },
      "outputs": [
        {
          "output_type": "stream",
          "name": "stdout",
          "text": [
            "<class 'pandas.core.frame.DataFrame'>\n",
            "RangeIndex: 2416 entries, 0 to 2415\n",
            "Data columns (total 6 columns):\n",
            " #   Column  Non-Null Count  Dtype \n",
            "---  ------  --------------  ----- \n",
            " 0   Date    2416 non-null   object\n",
            " 1   Open    2416 non-null   object\n",
            " 2   High    2416 non-null   object\n",
            " 3   Low     2416 non-null   object\n",
            " 4   Close   2416 non-null   object\n",
            " 5   Volume  2416 non-null   object\n",
            "dtypes: object(6)\n",
            "memory usage: 113.4+ KB\n"
          ]
        },
        {
          "output_type": "execute_result",
          "data": {
            "text/plain": [
              "         Date       Open   High        Low      Close    Volume\n",
              "0  2010-06-29       19.0   25.0  17.540001  23.889999  18766300\n",
              "1  2010-06-30  25.790001  30.42  23.299999      23.83  17187100\n",
              "2  2010-07-01       25.0  25.92      20.27  21.959999   8218800\n",
              "3  2010-07-02       23.0   23.1  18.709999  19.200001   5139800\n",
              "4  2010-07-06       20.0   20.0      15.83  16.110001   6866900"
            ],
            "text/html": [
              "\n",
              "  <div id=\"df-103d86ab-c402-4d4d-bf58-edddde426473\" class=\"colab-df-container\">\n",
              "    <div>\n",
              "<style scoped>\n",
              "    .dataframe tbody tr th:only-of-type {\n",
              "        vertical-align: middle;\n",
              "    }\n",
              "\n",
              "    .dataframe tbody tr th {\n",
              "        vertical-align: top;\n",
              "    }\n",
              "\n",
              "    .dataframe thead th {\n",
              "        text-align: right;\n",
              "    }\n",
              "</style>\n",
              "<table border=\"1\" class=\"dataframe\">\n",
              "  <thead>\n",
              "    <tr style=\"text-align: right;\">\n",
              "      <th></th>\n",
              "      <th>Date</th>\n",
              "      <th>Open</th>\n",
              "      <th>High</th>\n",
              "      <th>Low</th>\n",
              "      <th>Close</th>\n",
              "      <th>Volume</th>\n",
              "    </tr>\n",
              "  </thead>\n",
              "  <tbody>\n",
              "    <tr>\n",
              "      <th>0</th>\n",
              "      <td>2010-06-29</td>\n",
              "      <td>19.0</td>\n",
              "      <td>25.0</td>\n",
              "      <td>17.540001</td>\n",
              "      <td>23.889999</td>\n",
              "      <td>18766300</td>\n",
              "    </tr>\n",
              "    <tr>\n",
              "      <th>1</th>\n",
              "      <td>2010-06-30</td>\n",
              "      <td>25.790001</td>\n",
              "      <td>30.42</td>\n",
              "      <td>23.299999</td>\n",
              "      <td>23.83</td>\n",
              "      <td>17187100</td>\n",
              "    </tr>\n",
              "    <tr>\n",
              "      <th>2</th>\n",
              "      <td>2010-07-01</td>\n",
              "      <td>25.0</td>\n",
              "      <td>25.92</td>\n",
              "      <td>20.27</td>\n",
              "      <td>21.959999</td>\n",
              "      <td>8218800</td>\n",
              "    </tr>\n",
              "    <tr>\n",
              "      <th>3</th>\n",
              "      <td>2010-07-02</td>\n",
              "      <td>23.0</td>\n",
              "      <td>23.1</td>\n",
              "      <td>18.709999</td>\n",
              "      <td>19.200001</td>\n",
              "      <td>5139800</td>\n",
              "    </tr>\n",
              "    <tr>\n",
              "      <th>4</th>\n",
              "      <td>2010-07-06</td>\n",
              "      <td>20.0</td>\n",
              "      <td>20.0</td>\n",
              "      <td>15.83</td>\n",
              "      <td>16.110001</td>\n",
              "      <td>6866900</td>\n",
              "    </tr>\n",
              "  </tbody>\n",
              "</table>\n",
              "</div>\n",
              "    <div class=\"colab-df-buttons\">\n",
              "\n",
              "  <div class=\"colab-df-container\">\n",
              "    <button class=\"colab-df-convert\" onclick=\"convertToInteractive('df-103d86ab-c402-4d4d-bf58-edddde426473')\"\n",
              "            title=\"Convert this dataframe to an interactive table.\"\n",
              "            style=\"display:none;\">\n",
              "\n",
              "  <svg xmlns=\"http://www.w3.org/2000/svg\" height=\"24px\" viewBox=\"0 -960 960 960\">\n",
              "    <path d=\"M120-120v-720h720v720H120Zm60-500h600v-160H180v160Zm220 220h160v-160H400v160Zm0 220h160v-160H400v160ZM180-400h160v-160H180v160Zm440 0h160v-160H620v160ZM180-180h160v-160H180v160Zm440 0h160v-160H620v160Z\"/>\n",
              "  </svg>\n",
              "    </button>\n",
              "\n",
              "  <style>\n",
              "    .colab-df-container {\n",
              "      display:flex;\n",
              "      gap: 12px;\n",
              "    }\n",
              "\n",
              "    .colab-df-convert {\n",
              "      background-color: #E8F0FE;\n",
              "      border: none;\n",
              "      border-radius: 50%;\n",
              "      cursor: pointer;\n",
              "      display: none;\n",
              "      fill: #1967D2;\n",
              "      height: 32px;\n",
              "      padding: 0 0 0 0;\n",
              "      width: 32px;\n",
              "    }\n",
              "\n",
              "    .colab-df-convert:hover {\n",
              "      background-color: #E2EBFA;\n",
              "      box-shadow: 0px 1px 2px rgba(60, 64, 67, 0.3), 0px 1px 3px 1px rgba(60, 64, 67, 0.15);\n",
              "      fill: #174EA6;\n",
              "    }\n",
              "\n",
              "    .colab-df-buttons div {\n",
              "      margin-bottom: 4px;\n",
              "    }\n",
              "\n",
              "    [theme=dark] .colab-df-convert {\n",
              "      background-color: #3B4455;\n",
              "      fill: #D2E3FC;\n",
              "    }\n",
              "\n",
              "    [theme=dark] .colab-df-convert:hover {\n",
              "      background-color: #434B5C;\n",
              "      box-shadow: 0px 1px 3px 1px rgba(0, 0, 0, 0.15);\n",
              "      filter: drop-shadow(0px 1px 2px rgba(0, 0, 0, 0.3));\n",
              "      fill: #FFFFFF;\n",
              "    }\n",
              "  </style>\n",
              "\n",
              "    <script>\n",
              "      const buttonEl =\n",
              "        document.querySelector('#df-103d86ab-c402-4d4d-bf58-edddde426473 button.colab-df-convert');\n",
              "      buttonEl.style.display =\n",
              "        google.colab.kernel.accessAllowed ? 'block' : 'none';\n",
              "\n",
              "      async function convertToInteractive(key) {\n",
              "        const element = document.querySelector('#df-103d86ab-c402-4d4d-bf58-edddde426473');\n",
              "        const dataTable =\n",
              "          await google.colab.kernel.invokeFunction('convertToInteractive',\n",
              "                                                    [key], {});\n",
              "        if (!dataTable) return;\n",
              "\n",
              "        const docLinkHtml = 'Like what you see? Visit the ' +\n",
              "          '<a target=\"_blank\" href=https://colab.research.google.com/notebooks/data_table.ipynb>data table notebook</a>'\n",
              "          + ' to learn more about interactive tables.';\n",
              "        element.innerHTML = '';\n",
              "        dataTable['output_type'] = 'display_data';\n",
              "        await google.colab.output.renderOutput(dataTable, element);\n",
              "        const docLink = document.createElement('div');\n",
              "        docLink.innerHTML = docLinkHtml;\n",
              "        element.appendChild(docLink);\n",
              "      }\n",
              "    </script>\n",
              "  </div>\n",
              "\n",
              "\n",
              "<div id=\"df-7f9a28e2-8da7-4fad-a842-dafc213e9b5f\">\n",
              "  <button class=\"colab-df-quickchart\" onclick=\"quickchart('df-7f9a28e2-8da7-4fad-a842-dafc213e9b5f')\"\n",
              "            title=\"Suggest charts\"\n",
              "            style=\"display:none;\">\n",
              "\n",
              "<svg xmlns=\"http://www.w3.org/2000/svg\" height=\"24px\"viewBox=\"0 0 24 24\"\n",
              "     width=\"24px\">\n",
              "    <g>\n",
              "        <path d=\"M19 3H5c-1.1 0-2 .9-2 2v14c0 1.1.9 2 2 2h14c1.1 0 2-.9 2-2V5c0-1.1-.9-2-2-2zM9 17H7v-7h2v7zm4 0h-2V7h2v10zm4 0h-2v-4h2v4z\"/>\n",
              "    </g>\n",
              "</svg>\n",
              "  </button>\n",
              "\n",
              "<style>\n",
              "  .colab-df-quickchart {\n",
              "      --bg-color: #E8F0FE;\n",
              "      --fill-color: #1967D2;\n",
              "      --hover-bg-color: #E2EBFA;\n",
              "      --hover-fill-color: #174EA6;\n",
              "      --disabled-fill-color: #AAA;\n",
              "      --disabled-bg-color: #DDD;\n",
              "  }\n",
              "\n",
              "  [theme=dark] .colab-df-quickchart {\n",
              "      --bg-color: #3B4455;\n",
              "      --fill-color: #D2E3FC;\n",
              "      --hover-bg-color: #434B5C;\n",
              "      --hover-fill-color: #FFFFFF;\n",
              "      --disabled-bg-color: #3B4455;\n",
              "      --disabled-fill-color: #666;\n",
              "  }\n",
              "\n",
              "  .colab-df-quickchart {\n",
              "    background-color: var(--bg-color);\n",
              "    border: none;\n",
              "    border-radius: 50%;\n",
              "    cursor: pointer;\n",
              "    display: none;\n",
              "    fill: var(--fill-color);\n",
              "    height: 32px;\n",
              "    padding: 0;\n",
              "    width: 32px;\n",
              "  }\n",
              "\n",
              "  .colab-df-quickchart:hover {\n",
              "    background-color: var(--hover-bg-color);\n",
              "    box-shadow: 0 1px 2px rgba(60, 64, 67, 0.3), 0 1px 3px 1px rgba(60, 64, 67, 0.15);\n",
              "    fill: var(--button-hover-fill-color);\n",
              "  }\n",
              "\n",
              "  .colab-df-quickchart-complete:disabled,\n",
              "  .colab-df-quickchart-complete:disabled:hover {\n",
              "    background-color: var(--disabled-bg-color);\n",
              "    fill: var(--disabled-fill-color);\n",
              "    box-shadow: none;\n",
              "  }\n",
              "\n",
              "  .colab-df-spinner {\n",
              "    border: 2px solid var(--fill-color);\n",
              "    border-color: transparent;\n",
              "    border-bottom-color: var(--fill-color);\n",
              "    animation:\n",
              "      spin 1s steps(1) infinite;\n",
              "  }\n",
              "\n",
              "  @keyframes spin {\n",
              "    0% {\n",
              "      border-color: transparent;\n",
              "      border-bottom-color: var(--fill-color);\n",
              "      border-left-color: var(--fill-color);\n",
              "    }\n",
              "    20% {\n",
              "      border-color: transparent;\n",
              "      border-left-color: var(--fill-color);\n",
              "      border-top-color: var(--fill-color);\n",
              "    }\n",
              "    30% {\n",
              "      border-color: transparent;\n",
              "      border-left-color: var(--fill-color);\n",
              "      border-top-color: var(--fill-color);\n",
              "      border-right-color: var(--fill-color);\n",
              "    }\n",
              "    40% {\n",
              "      border-color: transparent;\n",
              "      border-right-color: var(--fill-color);\n",
              "      border-top-color: var(--fill-color);\n",
              "    }\n",
              "    60% {\n",
              "      border-color: transparent;\n",
              "      border-right-color: var(--fill-color);\n",
              "    }\n",
              "    80% {\n",
              "      border-color: transparent;\n",
              "      border-right-color: var(--fill-color);\n",
              "      border-bottom-color: var(--fill-color);\n",
              "    }\n",
              "    90% {\n",
              "      border-color: transparent;\n",
              "      border-bottom-color: var(--fill-color);\n",
              "    }\n",
              "  }\n",
              "</style>\n",
              "\n",
              "  <script>\n",
              "    async function quickchart(key) {\n",
              "      const quickchartButtonEl =\n",
              "        document.querySelector('#' + key + ' button');\n",
              "      quickchartButtonEl.disabled = true;  // To prevent multiple clicks.\n",
              "      quickchartButtonEl.classList.add('colab-df-spinner');\n",
              "      try {\n",
              "        const charts = await google.colab.kernel.invokeFunction(\n",
              "            'suggestCharts', [key], {});\n",
              "      } catch (error) {\n",
              "        console.error('Error during call to suggestCharts:', error);\n",
              "      }\n",
              "      quickchartButtonEl.classList.remove('colab-df-spinner');\n",
              "      quickchartButtonEl.classList.add('colab-df-quickchart-complete');\n",
              "    }\n",
              "    (() => {\n",
              "      let quickchartButtonEl =\n",
              "        document.querySelector('#df-7f9a28e2-8da7-4fad-a842-dafc213e9b5f button');\n",
              "      quickchartButtonEl.style.display =\n",
              "        google.colab.kernel.accessAllowed ? 'block' : 'none';\n",
              "    })();\n",
              "  </script>\n",
              "</div>\n",
              "\n",
              "    </div>\n",
              "  </div>\n"
            ],
            "application/vnd.google.colaboratory.intrinsic+json": {
              "type": "dataframe",
              "variable_name": "data",
              "summary": "{\n  \"name\": \"data\",\n  \"rows\": 2416,\n  \"fields\": [\n    {\n      \"column\": \"Date\",\n      \"properties\": {\n        \"dtype\": \"object\",\n        \"num_unique_values\": 2416,\n        \"samples\": [\n          \"2012-02-13\",\n          \"2011-04-12\",\n          \"2017-02-15\"\n        ],\n        \"semantic_type\": \"\",\n        \"description\": \"\"\n      }\n    },\n    {\n      \"column\": \"Open\",\n      \"properties\": {\n        \"dtype\": \"date\",\n        \"min\": 16.139999,\n        \"max\": 673.690002,\n        \"num_unique_values\": 2132,\n        \"samples\": [\n          28.34,\n          258.75,\n          300.369995\n        ],\n        \"semantic_type\": \"\",\n        \"description\": \"\"\n      }\n    },\n    {\n      \"column\": \"High\",\n      \"properties\": {\n        \"dtype\": \"date\",\n        \"min\": 16.629999,\n        \"max\": 786.140015,\n        \"num_unique_values\": 2128,\n        \"samples\": [\n          29.26,\n          222.899994,\n          337.75\n        ],\n        \"semantic_type\": \"\",\n        \"description\": \"\"\n      }\n    },\n    {\n      \"column\": \"Low\",\n      \"properties\": {\n        \"dtype\": \"date\",\n        \"min\": 14.98,\n        \"max\": 673.52002,\n        \"num_unique_values\": 2136,\n        \"samples\": [\n          306.799988,\n          27.540001,\n          29.41\n        ],\n        \"semantic_type\": \"\",\n        \"description\": \"\"\n      }\n    },\n    {\n      \"column\": \"Close\",\n      \"properties\": {\n        \"dtype\": \"date\",\n        \"min\": 15.8,\n        \"max\": 780.0,\n        \"num_unique_values\": 2225,\n        \"samples\": [\n          29.5,\n          29.66,\n          344.529999\n        ],\n        \"semantic_type\": \"\",\n        \"description\": \"\"\n      }\n    },\n    {\n      \"column\": \"Volume\",\n      \"properties\": {\n        \"dtype\": \"date\",\n        \"min\": 118500,\n        \"max\": 47065000,\n        \"num_unique_values\": 2391,\n        \"samples\": [\n          7203200,\n          2810300,\n          6725100\n        ],\n        \"semantic_type\": \"\",\n        \"description\": \"\"\n      }\n    }\n  ]\n}"
            }
          },
          "metadata": {},
          "execution_count": 4
        }
      ],
      "source": [
        "#Empezaré por eliminar la columna adj close ya que está duplicada\n",
        "data2 = data.T\n",
        "data2.shape\n",
        "data2.duplicated().sum()\n",
        "data = data2.drop_duplicates(keep =\"first\").T\n",
        "data.info()\n",
        "data.head()"
      ]
    },
    {
      "cell_type": "markdown",
      "metadata": {
        "id": "oZ1fpE9KAzdi"
      },
      "source": [
        "FEATURE SCALING\n"
      ]
    },
    {
      "cell_type": "code",
      "execution_count": null,
      "metadata": {
        "colab": {
          "base_uri": "https://localhost:8080/"
        },
        "id": "6R3dbW9BE0Nk",
        "outputId": "e9cff58a-c182-4b5b-95b4-142c023af660"
      },
      "outputs": [
        {
          "name": "stdout",
          "output_type": "stream",
          "text": [
            "         Date       Open   High        Low     Close    Volume\n",
            "0  2010-06-29       19.0   25.0  17.540001  0.010586  0.397214\n",
            "1  2010-06-30  25.790001  30.42  23.299999  0.010508  0.363576\n",
            "2  2010-07-01       25.0  25.92      20.27  0.008061  0.172543\n",
            "3  2010-07-02       23.0   23.1  18.709999  0.004449  0.106958\n",
            "4  2010-07-06       20.0   20.0      15.83  0.000406  0.143747\n"
          ]
        }
      ],
      "source": [
        "#Mis dos datos más importantes son Close y Volume por lo que busco llevarlos a una escala en común.\n",
        "# Selecciona solo las columnas que deseas escalar\n",
        "columnas_a_escalar = ['Close', 'Volume']\n",
        "data_a_escalar = data[columnas_a_escalar]\n",
        "\n",
        "#Utilizo la técnica de normalización ya que no tienen una distribución normal.\n",
        "\n",
        "# Crea un objeto MinMaxScaler\n",
        "scaler = MinMaxScaler()\n",
        "\n",
        "# Ajusta el escalador a tus datos\n",
        "scaler.fit(data_a_escalar)\n",
        "\n",
        "# Aplica la transformación a tus datos\n",
        "data[columnas_a_escalar] = scaler.transform(data_a_escalar)\n",
        "\n",
        "# Ahora las columnas 'close' y 'volume' en 'data' estarán escaladas entre 0 y 1\n",
        "print(data.head())  # Imprime las primeras filas del conjunto de datos para verificar"
      ]
    },
    {
      "cell_type": "markdown",
      "metadata": {
        "id": "kVgm3kJ38_Eh"
      },
      "source": [
        "GRID SEARCH: Utilizaré para encontrar los mejores parámetros para mi modelo SVR"
      ]
    },
    {
      "cell_type": "code",
      "execution_count": 6,
      "metadata": {
        "colab": {
          "base_uri": "https://localhost:8080/"
        },
        "id": "jNXVwyuz8-nt",
        "outputId": "4258eeb7-0e85-427b-9a03-1974370b3c6b"
      },
      "outputs": [
        {
          "output_type": "stream",
          "name": "stdout",
          "text": [
            "Mejores parámetros encontrados:\n",
            "{'svr__C': 100, 'svr__epsilon': 0.1, 'svr__gamma': 0.001}\n",
            "Score en conjunto de prueba: 0.9968520768118335\n"
          ]
        }
      ],
      "source": [
        "# Seleccionar solo la columna 'Close' (precio de cierre) para el análisis\n",
        "data = data[['Close']]\n",
        "\n",
        "# Crear una nueva columna 'Target' que contenga los precios de cierre desplazados un día hacia adelante\n",
        "data['Target'] = data['Close'].shift(-1)\n",
        "\n",
        "# Eliminar filas con valores faltantes (NaN) que se generaron debido al desplazamiento\n",
        "data.dropna(inplace=True)\n",
        "\n",
        "# Dividir los datos en características (X) y etiquetas (y)\n",
        "X = data[['Close']]\n",
        "y = data['Target']\n",
        "\n",
        "#Definimos el conjunto de entrenamiento y prueba\n",
        "X_train, X_test, y_train, y_test = train_test_split(X, y, test_size=0.2, random_state=42)\n",
        "\n",
        "# Definimos un pipeline con un escalador y un modelo SVR\n",
        "pipeline = Pipeline([\n",
        "    ('scaler', StandardScaler()),\n",
        "    ('svr', SVR())\n",
        "])\n",
        "\n",
        "# Definimos los parámetros que queremos probar en el GridSearch\n",
        "parameters = {\n",
        "    'svr__C': [0.1, 1, 10,100],\n",
        "    'svr__gamma': [0.1, 0.01, 0.001],\n",
        "    'svr__epsilon': [0.1, 0.01, 0.001]\n",
        "}\n",
        "\n",
        "# Creamos el objeto GridSearchCV\n",
        "grid_search = GridSearchCV(pipeline, parameters, cv=5, n_jobs=-1)\n",
        "\n",
        "# Ajustamos el GridSearch a los datos de entrenamiento\n",
        "grid_search.fit(X_train, y_train)\n",
        "\n",
        "# Imprimimos los mejores parámetros encontrados\n",
        "print(\"Mejores parámetros encontrados:\")\n",
        "print(grid_search.best_params_)\n",
        "\n",
        "# Evaluamos el modelo con los mejores parámetros en el conjunto de prueba\n",
        "best_svr = grid_search.best_estimator_\n",
        "test_score = best_svr.score(X_test, y_test)\n",
        "print(\"Score en conjunto de prueba:\", test_score)"
      ]
    },
    {
      "cell_type": "markdown",
      "metadata": {
        "id": "jKId_Ae_cbS3"
      },
      "source": [
        "APLICACIÓN DEL MODELO SVR PARA PREDECIR EL CLOSE (con datos escalados)"
      ]
    },
    {
      "cell_type": "code",
      "execution_count": null,
      "metadata": {
        "id": "iBFEfUvtGc9Y"
      },
      "outputs": [],
      "source": [
        "# Seleccionar solo la columna 'Close' (precio de cierre) para el análisis\n",
        "data = data[['Close']]\n",
        "\n",
        "# Crear una nueva columna 'Target' que contenga los precios de cierre desplazados un día hacia adelante\n",
        "data['Target'] = data['Close'].shift(-1)\n",
        "\n",
        "# Eliminar filas con valores faltantes (NaN) que se generaron debido al desplazamiento\n",
        "data.dropna(inplace=True)\n",
        "\n",
        "# Dividir los datos en características (X) y etiquetas (y)\n",
        "X = data[['Close']]\n",
        "y = data['Target']\n",
        "\n",
        "# Dividir los datos en conjuntos de entrenamiento y prueba\n",
        "X_train, X_test, y_train, y_test = train_test_split(X, y, test_size=0.2, random_state=42)\n",
        "\n",
        "# Entrenar un modelo de SVR\n",
        "model = SVR(kernel='linear', C=100, epsilon=0.1)\n",
        "model.fit(X_train, y_train)\n",
        "\n",
        "# Predecir los precios de cierre en el conjunto de prueba\n",
        "y_pred = model.predict(X_test)\n",
        "\n",
        "# Visualizar los resultados\n",
        "plt.figure(figsize=(10, 6))\n",
        "plt.scatter(X_test, y_test, color='blue', label='Actual Prices')\n",
        "plt.plot(X_test, y_pred, color='red', linewidth=2, label='Predicted Prices')\n",
        "plt.xlabel('Close Price')\n",
        "plt.ylabel('Next Day Close Price')\n",
        "plt.title('SVR Prediction of Stock Prices')\n",
        "plt.legend()\n",
        "plt.show()"
      ]
    },
    {
      "cell_type": "code",
      "execution_count": null,
      "metadata": {
        "colab": {
          "base_uri": "https://localhost:8080/"
        },
        "id": "iHFjWpPbeyK4",
        "outputId": "1a64195b-4bc9-406a-9823-f2a25788b361"
      },
      "outputs": [
        {
          "name": "stdout",
          "output_type": "stream",
          "text": [
            "Accuracy: 0.8364221359021056\n"
          ]
        }
      ],
      "source": [
        "accuracy = model.score(X_test, y_test)\n",
        "print('Accuracy:', accuracy)"
      ]
    },
    {
      "cell_type": "code",
      "execution_count": null,
      "metadata": {
        "colab": {
          "base_uri": "https://localhost:8080/"
        },
        "id": "aKbsII0thic1",
        "outputId": "0f1e9ce2-14f9-4b97-b3c2-eee674f398b9"
      },
      "outputs": [
        {
          "name": "stdout",
          "output_type": "stream",
          "text": [
            "Error cuadrático medio (MSE) entre y_train e y_pred_train: 0.004365580834656678\n",
            "Error cuadrático medio (MSE) entre y_test e y_pred: 0.004287242119533348\n"
          ]
        }
      ],
      "source": [
        "#Verificación del overfitteo\n",
        "#Primero calculo los ypred con los datos de entrenamiento\n",
        "y_pred_train = model.predict(X_train)\n",
        "#Calculo el error entre los valores reales de entrenamiento la variable objetivo\n",
        "#y las predicciones realizadas por el modelo con los mismos datos de entrenamiento\n",
        "mse_train = mean_squared_error(y_train, y_pred_train)\n",
        "print(\"Error cuadrático medio (MSE) entre y_train e y_pred_train:\", mse_train)\n",
        "mse2 = mean_squared_error(y_test, y_pred)\n",
        "print(\"Error cuadrático medio (MSE) entre y_test e y_pred:\", mse2)"
      ]
    },
    {
      "cell_type": "markdown",
      "metadata": {
        "id": "Y_vQvheuh3So"
      },
      "source": [
        "ANALIZO SI LA ACCURACY MEJORA SIN ESCALAR LOS DATOS"
      ]
    },
    {
      "cell_type": "code",
      "execution_count": 5,
      "metadata": {
        "id": "ma-07dppiZFW",
        "colab": {
          "base_uri": "https://localhost:8080/",
          "height": 755
        },
        "outputId": "3d1e4903-6e6e-4b84-fb29-25a16da7b9dc"
      },
      "outputs": [
        {
          "output_type": "stream",
          "name": "stderr",
          "text": [
            "<ipython-input-5-a5478909d0e0>:5: SettingWithCopyWarning: \n",
            "A value is trying to be set on a copy of a slice from a DataFrame.\n",
            "Try using .loc[row_indexer,col_indexer] = value instead\n",
            "\n",
            "See the caveats in the documentation: https://pandas.pydata.org/pandas-docs/stable/user_guide/indexing.html#returning-a-view-versus-a-copy\n",
            "  data['Target'] = data['Close'].shift(-1)\n",
            "<ipython-input-5-a5478909d0e0>:8: SettingWithCopyWarning: \n",
            "A value is trying to be set on a copy of a slice from a DataFrame\n",
            "\n",
            "See the caveats in the documentation: https://pandas.pydata.org/pandas-docs/stable/user_guide/indexing.html#returning-a-view-versus-a-copy\n",
            "  data.dropna(inplace=True)\n"
          ]
        },
        {
          "output_type": "display_data",
          "data": {
            "text/plain": [
              "<Figure size 1000x600 with 1 Axes>"
            ],
            "image/png": "[encoded data removed]"
          },
          "metadata": {}
        }
      ],
      "source": [
        "# Seleccionar solo la columna 'Close' (precio de cierre) para el análisis\n",
        "data = data[['Close']]\n",
        "\n",
        "# Crear una nueva columna 'Target' que contenga los precios de cierre desplazados un día hacia adelante\n",
        "data['Target'] = data['Close'].shift(-1)\n",
        "\n",
        "# Eliminar filas con valores faltantes (NaN) que se generaron debido al desplazamiento\n",
        "data.dropna(inplace=True)\n",
        "\n",
        "# Dividir los datos en características (X) y etiquetas (y)\n",
        "X = data[['Close']]\n",
        "y = data['Target']\n",
        "\n",
        "# Dividir los datos en conjuntos de entrenamiento y prueba\n",
        "X_train, X_test, y_train, y_test = train_test_split(X, y, test_size=0.2, random_state=42)\n",
        "\n",
        "# Entrenar un modelo de SVR\n",
        "model = SVR(kernel='rbf', C=100, epsilon=0.1)\n",
        "model.fit(X_train, y_train)\n",
        "\n",
        "# Predecir los precios de cierre en el conjunto de prueba\n",
        "y_pred = model.predict(X_test)\n",
        "\n",
        "# Visualizar los resultados\n",
        "plt.figure(figsize=(10, 6))\n",
        "plt.scatter(X_test, y_test, color='blue', label='Actual Prices')\n",
        "plt.plot(X_test, y_pred, color='red', linewidth=2, label='Predicted Prices')\n",
        "plt.xlabel('Close Price')\n",
        "plt.ylabel('Next Day Close Price')\n",
        "plt.title('SVR Prediction of Stock Prices')\n",
        "plt.legend()\n",
        "plt.show()"
      ]
    },
    {
      "cell_type": "code",
      "execution_count": null,
      "metadata": {
        "colab": {
          "base_uri": "https://localhost:8080/"
        },
        "id": "hG1jQbPpia_o",
        "outputId": "ea726206-60c4-40c1-b685-b761936b6d05"
      },
      "outputs": [
        {
          "name": "stdout",
          "output_type": "stream",
          "text": [
            "Accuracy: 0.9971035991215694\n"
          ]
        }
      ],
      "source": [
        "accuracy = model.score(X_test, y_test)\n",
        "print('Accuracy:', accuracy)"
      ]
    },
    {
      "cell_type": "markdown",
      "metadata": {
        "id": "8TPtei8FjCjZ"
      },
      "source": [
        "SE OBSERVA QUE EL MODELO MEJORA MUCHO CON LOS DATOS NO ESCALADOS.\n",
        "Como puede suponerse un overfitting, se evalúa mediante una comparación de ypred con ytrain y de ypred con ytest."
      ]
    },
    {
      "cell_type": "code",
      "execution_count": null,
      "metadata": {
        "colab": {
          "base_uri": "https://localhost:8080/"
        },
        "id": "squC_nhCgnXz",
        "outputId": "78d2a2c4-fa10-4005-b847-b5c63a10d678"
      },
      "outputs": [
        {
          "name": "stdout",
          "output_type": "stream",
          "text": [
            "Error cuadrático medio (MSE) entre y_train e y_pred_train: 49.58296831088675\n",
            "Error cuadrático medio (MSE) entre y_test e y_pred: 44.41223789192649\n"
          ]
        }
      ],
      "source": [
        "#Verificación del overfitteo\n",
        "#Primero calculo los ypred con los datos de entrenamiento\n",
        "y_pred_train = model.predict(X_train)\n",
        "#Calculo el error entre los valores reales de entrenamiento la variable objetivo\n",
        "#y las predicciones realizadas por el modelo con los mismos datos de entrenamiento\n",
        "mse_train = mean_squared_error(y_train, y_pred_train)\n",
        "print(\"Error cuadrático medio (MSE) entre y_train e y_pred_train:\", mse_train)\n",
        "mse2 = mean_squared_error(y_test, y_pred)\n",
        "print(\"Error cuadrático medio (MSE) entre y_test e y_pred:\", mse2)"
      ]
    },
    {
      "cell_type": "markdown",
      "metadata": {
        "id": "aaRsrT6_hPTN"
      },
      "source": [
        "Como podemos ver el modelo presenta un rendimiento levemente inferior con los datos de entrenamiento por lo que no podemos suponer que haya overfitteo.\n",
        "Algo muy similar ocurre más arriba al realizar la misma prueba con los datos escalados.\n"
      ]
    },
    {
      "cell_type": "code",
      "execution_count": null,
      "metadata": {
        "id": "OIk0iomLa_a9"
      },
      "outputs": [],
      "source": []
    }
  ],
  "metadata": {
    "colab": {
      "provenance": []
    },
    "kernelspec": {
      "display_name": "Python 3",
      "name": "python3"
    },
    "language_info": {
      "name": "python"
    }
  },
  "nbformat": 4,
  "nbformat_minor": 0
}